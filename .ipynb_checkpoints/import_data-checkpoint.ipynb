{
 "cells": [
  {
   "cell_type": "markdown",
   "id": "c19cd9ea-b0fa-4c1b-9a44-4721f1766e4d",
   "metadata": {
    "jp-MarkdownHeadingCollapsed": true
   },
   "source": [
    "# Shaikh's real effective exchange rate\n",
    "### Calculations on the real effectice exchange rate between japan and the US \n",
    "\n",
    "The goal is to reproduce figure 11.4 and 11.5 from the book \"Capitalism - Competition, Conflict, Crises\" \n",
    "\n",
    "The real effective exchange rate is calculated as the vertically integrated unit labor costs (vulc) times a factor of the share of exports (tau).\n",
    "\n",
    "Theta can have the form of the share of exports over GDP (exp/gdp) or of consumer price index over producer price index (CPI/PPI)\n",
    "\n",
    "Therefore: \n",
    "\n",
    "$$ \\frac{vulcr}{vulcr*} \\cdot \\frac{\\tau}{\\tau*}$$\n",
    "\n",
    "or equivalent\n",
    "\n",
    "$$ \\frac{(\\frac{ULC}{CPI})}{(\\frac{ULC*}{CPI*})} \\cdot \\frac{(\\frac{exp}{gdp})}{(\\frac{exp*}{gdp*})}$$"
   ]
  },
  {
   "cell_type": "markdown",
   "id": "c153a879-3a55-4216-963d-488affd7eaf0",
   "metadata": {},
   "source": [
    "# import data"
   ]
  },
  {
   "cell_type": "markdown",
   "id": "e7adf7e2-d415-4dc3-a23e-acfce89c527d",
   "metadata": {},
   "source": [
    "### Japan"
   ]
  },
  {
   "cell_type": "code",
   "execution_count": 1,
   "id": "bf3d73f6-fbd8-4210-8636-fb7c04dd83f9",
   "metadata": {},
   "outputs": [],
   "source": [
    "import pandas as pd"
   ]
  },
  {
   "cell_type": "code",
   "execution_count": 2,
   "id": "de394cc6-5694-4a80-8dab-6b610d4a7ff1",
   "metadata": {},
   "outputs": [
    {
     "data": {
      "text/html": [
       "<div>\n",
       "<style scoped>\n",
       "    .dataframe tbody tr th:only-of-type {\n",
       "        vertical-align: middle;\n",
       "    }\n",
       "\n",
       "    .dataframe tbody tr th {\n",
       "        vertical-align: top;\n",
       "    }\n",
       "\n",
       "    .dataframe thead th {\n",
       "        text-align: right;\n",
       "    }\n",
       "</style>\n",
       "<table border=\"1\" class=\"dataframe\">\n",
       "  <thead>\n",
       "    <tr style=\"text-align: right;\">\n",
       "      <th></th>\n",
       "      <th>Country Name</th>\n",
       "      <th>Country Code</th>\n",
       "      <th>Indicator Name</th>\n",
       "      <th>Indicator Code</th>\n",
       "      <th>1960</th>\n",
       "      <th>1961</th>\n",
       "      <th>1962</th>\n",
       "      <th>1963</th>\n",
       "      <th>1964</th>\n",
       "      <th>1965</th>\n",
       "      <th>...</th>\n",
       "      <th>2015</th>\n",
       "      <th>2016</th>\n",
       "      <th>2017</th>\n",
       "      <th>2018</th>\n",
       "      <th>2019</th>\n",
       "      <th>2020</th>\n",
       "      <th>2021</th>\n",
       "      <th>2022</th>\n",
       "      <th>2023</th>\n",
       "      <th>Unnamed: 68</th>\n",
       "    </tr>\n",
       "  </thead>\n",
       "  <tbody>\n",
       "    <tr>\n",
       "      <th>0</th>\n",
       "      <td>Aruba</td>\n",
       "      <td>ABW</td>\n",
       "      <td>Exports of goods and services (% of GDP)</td>\n",
       "      <td>NE.EXP.GNFS.ZS</td>\n",
       "      <td>NaN</td>\n",
       "      <td>NaN</td>\n",
       "      <td>NaN</td>\n",
       "      <td>NaN</td>\n",
       "      <td>NaN</td>\n",
       "      <td>NaN</td>\n",
       "      <td>...</td>\n",
       "      <td>72.852913</td>\n",
       "      <td>71.820435</td>\n",
       "      <td>72.548690</td>\n",
       "      <td>72.252774</td>\n",
       "      <td>73.234592</td>\n",
       "      <td>55.32681</td>\n",
       "      <td>69.069709</td>\n",
       "      <td>83.124605</td>\n",
       "      <td>NaN</td>\n",
       "      <td>NaN</td>\n",
       "    </tr>\n",
       "    <tr>\n",
       "      <th>1</th>\n",
       "      <td>Africa Eastern and Southern</td>\n",
       "      <td>AFE</td>\n",
       "      <td>Exports of goods and services (% of GDP)</td>\n",
       "      <td>NE.EXP.GNFS.ZS</td>\n",
       "      <td>NaN</td>\n",
       "      <td>NaN</td>\n",
       "      <td>NaN</td>\n",
       "      <td>NaN</td>\n",
       "      <td>NaN</td>\n",
       "      <td>NaN</td>\n",
       "      <td>...</td>\n",
       "      <td>24.046024</td>\n",
       "      <td>23.249929</td>\n",
       "      <td>23.824897</td>\n",
       "      <td>25.315921</td>\n",
       "      <td>23.903124</td>\n",
       "      <td>22.03616</td>\n",
       "      <td>25.922406</td>\n",
       "      <td>27.595354</td>\n",
       "      <td>24.50316</td>\n",
       "      <td>NaN</td>\n",
       "    </tr>\n",
       "  </tbody>\n",
       "</table>\n",
       "<p>2 rows × 69 columns</p>\n",
       "</div>"
      ],
      "text/plain": [
       "                  Country Name Country Code  \\\n",
       "0                        Aruba          ABW   \n",
       "1  Africa Eastern and Southern          AFE   \n",
       "\n",
       "                             Indicator Name  Indicator Code  1960  1961  1962  \\\n",
       "0  Exports of goods and services (% of GDP)  NE.EXP.GNFS.ZS   NaN   NaN   NaN   \n",
       "1  Exports of goods and services (% of GDP)  NE.EXP.GNFS.ZS   NaN   NaN   NaN   \n",
       "\n",
       "   1963  1964  1965  ...       2015       2016       2017       2018  \\\n",
       "0   NaN   NaN   NaN  ...  72.852913  71.820435  72.548690  72.252774   \n",
       "1   NaN   NaN   NaN  ...  24.046024  23.249929  23.824897  25.315921   \n",
       "\n",
       "        2019      2020       2021       2022      2023  Unnamed: 68  \n",
       "0  73.234592  55.32681  69.069709  83.124605       NaN          NaN  \n",
       "1  23.903124  22.03616  25.922406  27.595354  24.50316          NaN  \n",
       "\n",
       "[2 rows x 69 columns]"
      ]
     },
     "execution_count": 2,
     "metadata": {},
     "output_type": "execute_result"
    }
   ],
   "source": [
    "exp_gdp = pd.read_csv(\"EXP-GDP/API_NE.EXP.GNFS.ZS_DS2_en_csv_v2_431603.csv\",skiprows=3,delimiter=\",\")\n",
    "exp_gdp.head(2)"
   ]
  },
  {
   "cell_type": "code",
   "execution_count": 51,
   "id": "bd1c5a04-e61d-4540-99ec-036b9b5ace63",
   "metadata": {},
   "outputs": [
    {
     "name": "stdout",
     "output_type": "stream",
     "text": [
      "Index(['Country Name', 'Country Code', 'Indicator Name', 'Indicator Code',\n",
      "       '1960', '1961', '1962', '1963', '1964', '1965', '1966', '1967', '1968',\n",
      "       '1969', '1970', '1971', '1972', '1973', '1974', '1975', '1976', '1977',\n",
      "       '1978', '1979', '1980', '1981', '1982', '1983', '1984', '1985', '1986',\n",
      "       '1987', '1988', '1989', '1990', '1991', '1992', '1993', '1994', '1995',\n",
      "       '1996', '1997', '1998', '1999', '2000', '2001', '2002', '2003', '2004',\n",
      "       '2005', '2006', '2007', '2008', '2009', '2010', '2011', '2012', '2013',\n",
      "       '2014', '2015', '2016', '2017', '2018', '2019', '2020', '2021', '2022',\n",
      "       '2023', 'Unnamed: 68'],\n",
      "      dtype='object')\n"
     ]
    },
    {
     "data": {
      "text/html": [
       "<div>\n",
       "<style scoped>\n",
       "    .dataframe tbody tr th:only-of-type {\n",
       "        vertical-align: middle;\n",
       "    }\n",
       "\n",
       "    .dataframe tbody tr th {\n",
       "        vertical-align: top;\n",
       "    }\n",
       "\n",
       "    .dataframe thead th {\n",
       "        text-align: right;\n",
       "    }\n",
       "</style>\n",
       "<table border=\"1\" class=\"dataframe\">\n",
       "  <thead>\n",
       "    <tr style=\"text-align: right;\">\n",
       "      <th></th>\n",
       "      <th>jpn_exp_gdp</th>\n",
       "      <th>usa_exp_gdp</th>\n",
       "    </tr>\n",
       "  </thead>\n",
       "  <tbody>\n",
       "    <tr>\n",
       "      <th>1960</th>\n",
       "      <td>NaN</td>\n",
       "      <td>NaN</td>\n",
       "    </tr>\n",
       "    <tr>\n",
       "      <th>1961</th>\n",
       "      <td>NaN</td>\n",
       "      <td>NaN</td>\n",
       "    </tr>\n",
       "  </tbody>\n",
       "</table>\n",
       "</div>"
      ],
      "text/plain": [
       "      jpn_exp_gdp  usa_exp_gdp\n",
       "1960          NaN          NaN\n",
       "1961          NaN          NaN"
      ]
     },
     "execution_count": 51,
     "metadata": {},
     "output_type": "execute_result"
    }
   ],
   "source": [
    "# % share of Exports over GDP on a YEARLY basis \n",
    "print(exp_gdp[exp_gdp[\"Country Code\"] == \"JPN\"].columns)\n",
    "\n",
    "exp_gdp_ss = exp_gdp[exp_gdp[\"Country Code\"].isin([\"JPN\",\"USA\"]) ].drop(\n",
    "    ['Country Name', 'Country Code', 'Indicator Name', 'Indicator Code','Unnamed: 68'],axis=1).T.rename(\n",
    "    columns={119:'jpn_exp_gdp',251:'usa_exp_gdp'})\n",
    "\n",
    "exp_gdp_ss.head(2)"
   ]
  },
  {
   "cell_type": "code",
   "execution_count": 53,
   "id": "ccda0b62-6311-4278-a0f0-fe68b8f588d6",
   "metadata": {},
   "outputs": [
    {
     "name": "stdout",
     "output_type": "stream",
     "text": [
      "         date   value\n",
      "0  1971-01-04  357.73\n",
      "1  1971-01-05  357.81\n"
     ]
    }
   ],
   "source": [
    "# DAILY basis\n",
    "usd_yen = pd.read_csv(\"FX-Rate-USD-YEN/dollar-yen-exchange-rate-historical-chart.csv\",skiprows=15)\n",
    "print(usd_yen.head(2))"
   ]
  },
  {
   "cell_type": "code",
   "execution_count": 63,
   "id": "d4d579ba-baa7-44bf-b6e0-689fba9728e2",
   "metadata": {},
   "outputs": [
    {
     "name": "stdout",
     "output_type": "stream",
     "text": [
      "      jpn_cpi_wb  usa_cpi_wb\n",
      "1960         NaN         NaN\n",
      "1961         NaN         NaN\n",
      "      jpn_cpi_wb  usa_cpi_wb\n",
      "2022   21.541723   11.633909\n",
      "2023         NaN         NaN\n"
     ]
    }
   ],
   "source": [
    "# CPI from the world bank on a YEARLY basis\n",
    "\n",
    "jpn_cpi = pd.read_csv(\"JPN-CPI/API_FP.CPI.TOTL_DS2_en_csv_v2_527528.csv\",skiprows=3,delimiter=\",\")\n",
    "\n",
    "# _wb = WORLD BANK\n",
    "\n",
    "cpi_wb_ss = exp_gdp[exp_gdp[\"Country Code\"].isin([\"JPN\",\"USA\"]) ].drop(\n",
    "    ['Country Name', 'Country Code', 'Indicator Name', 'Indicator Code','Unnamed: 68'],axis=1).T.rename(\n",
    "    columns={119:'jpn_cpi_wb',251:'usa_cpi_wb'})\n",
    "\n",
    "\n",
    "print(cpi_wb_ss.head(2))\n",
    "print(cpi_wb_ss.tail(2))"
   ]
  },
  {
   "cell_type": "code",
   "execution_count": 67,
   "id": "b8fb7990-a8f4-4f4e-a735-ba749cc09597",
   "metadata": {},
   "outputs": [
    {
     "name": "stdout",
     "output_type": "stream",
     "text": [
      "748\n",
      "         DATE  jpn_ppi\n",
      "0  1960-01-01  62.8903\n",
      "1  1960-02-01  62.8903\n",
      "           DATE  jpn_ppi\n",
      "746  2022-03-01     99.9\n",
      "747  2022-04-01    100.7\n"
     ]
    }
   ],
   "source": [
    "# finished goods PPI from FRED  on a MONTHLY basis\n",
    "jpn_ppi = pd.read_csv(\"JPN-PPI/PISPFG01JPM661N.csv\")\n",
    "jpn_ppi = jpn_ppi.rename(columns={'PISPFG01JPM661N':'jpn_ppi'})\n",
    "print(len(jpn_ppi))\n",
    "print(jpn_ppi.head(2))\n",
    "print(jpn_ppi.tail(2))"
   ]
  },
  {
   "cell_type": "code",
   "execution_count": 66,
   "id": "7536642e-9fb5-4eea-9267-42b339cb93ae",
   "metadata": {},
   "outputs": [
    {
     "name": "stdout",
     "output_type": "stream",
     "text": [
      "175\n",
      "         DATE  ULQECU01JPQ661S\n",
      "0  1980-01-01        67.467467\n",
      "1  1980-04-01        68.412182\n",
      "           DATE  ULQECU01JPQ661S\n",
      "173  2023-04-01       107.630371\n",
      "174  2023-07-01       107.373853\n"
     ]
    }
   ],
   "source": [
    "# UNIT LABOR COSTS FROM FRED \n",
    "jpn_ulc = pd.read_csv(\"JPN-ULC/ULQECU01JPQ661S.csv\")\n",
    "jpn_ulc = jpn_ulc.rename({'ULQECU01JPQ661S':'jpn_ulc'})\n",
    "print(len(jpn_ulc))\n",
    "print(jpn_ulc.head(2))\n",
    "print(jpn_ulc.tail(2))"
   ]
  },
  {
   "cell_type": "markdown",
   "id": "89aae2e1-ba76-44c2-a158-6b52dec5e41a",
   "metadata": {},
   "source": [
    "### United States"
   ]
  },
  {
   "cell_type": "code",
   "execution_count": 7,
   "id": "21877b1a-e091-4251-8318-a9c03d36f58e",
   "metadata": {},
   "outputs": [
    {
     "data": {
      "text/html": [
       "<div>\n",
       "<style scoped>\n",
       "    .dataframe tbody tr th:only-of-type {\n",
       "        vertical-align: middle;\n",
       "    }\n",
       "\n",
       "    .dataframe tbody tr th {\n",
       "        vertical-align: top;\n",
       "    }\n",
       "\n",
       "    .dataframe thead th {\n",
       "        text-align: right;\n",
       "    }\n",
       "</style>\n",
       "<table border=\"1\" class=\"dataframe\">\n",
       "  <thead>\n",
       "    <tr style=\"text-align: right;\">\n",
       "      <th></th>\n",
       "      <th>series_id</th>\n",
       "      <th>year</th>\n",
       "      <th>period</th>\n",
       "      <th>value</th>\n",
       "      <th>footnote_codes</th>\n",
       "    </tr>\n",
       "  </thead>\n",
       "  <tbody>\n",
       "    <tr>\n",
       "      <th>0</th>\n",
       "      <td>CUSR0000SA0</td>\n",
       "      <td>1947</td>\n",
       "      <td>M01</td>\n",
       "      <td>21.48</td>\n",
       "      <td>NaN</td>\n",
       "    </tr>\n",
       "    <tr>\n",
       "      <th>1</th>\n",
       "      <td>CUSR0000SA0</td>\n",
       "      <td>1947</td>\n",
       "      <td>M02</td>\n",
       "      <td>21.62</td>\n",
       "      <td>NaN</td>\n",
       "    </tr>\n",
       "  </tbody>\n",
       "</table>\n",
       "</div>"
      ],
      "text/plain": [
       "   series_id          year period         value  footnote_codes\n",
       "0  CUSR0000SA0        1947    M01         21.48             NaN\n",
       "1  CUSR0000SA0        1947    M02         21.62             NaN"
      ]
     },
     "execution_count": 7,
     "metadata": {},
     "output_type": "execute_result"
    }
   ],
   "source": [
    "us_cpi = pd.read_table(\"US-CPI/cu.data.1.AllItems\")\n",
    "us_cpi.head(2)"
   ]
  },
  {
   "cell_type": "code",
   "execution_count": 8,
   "id": "20f869eb-3799-4dec-9bfa-979df511fd8d",
   "metadata": {},
   "outputs": [
    {
     "data": {
      "text/html": [
       "<div>\n",
       "<style scoped>\n",
       "    .dataframe tbody tr th:only-of-type {\n",
       "        vertical-align: middle;\n",
       "    }\n",
       "\n",
       "    .dataframe tbody tr th {\n",
       "        vertical-align: top;\n",
       "    }\n",
       "\n",
       "    .dataframe thead th {\n",
       "        text-align: right;\n",
       "    }\n",
       "</style>\n",
       "<table border=\"1\" class=\"dataframe\">\n",
       "  <thead>\n",
       "    <tr style=\"text-align: right;\">\n",
       "      <th></th>\n",
       "      <th>series_id</th>\n",
       "      <th>year</th>\n",
       "      <th>period</th>\n",
       "      <th>value</th>\n",
       "      <th>footnote_codes</th>\n",
       "    </tr>\n",
       "  </thead>\n",
       "  <tbody>\n",
       "    <tr>\n",
       "      <th>0</th>\n",
       "      <td>PCUADLVWRADLVWR</td>\n",
       "      <td>2006</td>\n",
       "      <td>M12</td>\n",
       "      <td>100.0</td>\n",
       "      <td>NaN</td>\n",
       "    </tr>\n",
       "    <tr>\n",
       "      <th>1</th>\n",
       "      <td>PCUADLVWRADLVWR</td>\n",
       "      <td>2007</td>\n",
       "      <td>M01</td>\n",
       "      <td>103.7</td>\n",
       "      <td>NaN</td>\n",
       "    </tr>\n",
       "  </tbody>\n",
       "</table>\n",
       "</div>"
      ],
      "text/plain": [
       "   series_id                       year period         value footnote_codes\n",
       "0  PCUADLVWRADLVWR                 2006    M12         100.0            NaN\n",
       "1  PCUADLVWRADLVWR                 2007    M01         103.7            NaN"
      ]
     },
     "execution_count": 8,
     "metadata": {},
     "output_type": "execute_result"
    }
   ],
   "source": [
    "us_ppi = pd.read_table(\"US-PPI/pc.data.01.aggregates\")\n",
    "us_ppi.head(2)"
   ]
  },
  {
   "cell_type": "code",
   "execution_count": 9,
   "id": "d1878f6a-78e3-47aa-a8a1-602ab7c3c7bb",
   "metadata": {},
   "outputs": [
    {
     "data": {
      "text/html": [
       "<div>\n",
       "<style scoped>\n",
       "    .dataframe tbody tr th:only-of-type {\n",
       "        vertical-align: middle;\n",
       "    }\n",
       "\n",
       "    .dataframe tbody tr th {\n",
       "        vertical-align: top;\n",
       "    }\n",
       "\n",
       "    .dataframe thead th {\n",
       "        text-align: right;\n",
       "    }\n",
       "</style>\n",
       "<table border=\"1\" class=\"dataframe\">\n",
       "  <thead>\n",
       "    <tr style=\"text-align: right;\">\n",
       "      <th></th>\n",
       "      <th>series_id</th>\n",
       "      <th>year</th>\n",
       "      <th>period</th>\n",
       "      <th>value</th>\n",
       "      <th>footnote_codes</th>\n",
       "    </tr>\n",
       "  </thead>\n",
       "  <tbody>\n",
       "    <tr>\n",
       "      <th>0</th>\n",
       "      <td>PRS30006011</td>\n",
       "      <td>1988</td>\n",
       "      <td>Q01</td>\n",
       "      <td>1.9</td>\n",
       "      <td>NaN</td>\n",
       "    </tr>\n",
       "    <tr>\n",
       "      <th>1</th>\n",
       "      <td>PRS30006011</td>\n",
       "      <td>1988</td>\n",
       "      <td>Q02</td>\n",
       "      <td>2.2</td>\n",
       "      <td>NaN</td>\n",
       "    </tr>\n",
       "  </tbody>\n",
       "</table>\n",
       "</div>"
      ],
      "text/plain": [
       "   series_id          year period         value footnote_codes\n",
       "0  PRS30006011        1988    Q01           1.9            NaN\n",
       "1  PRS30006011        1988    Q02           2.2            NaN"
      ]
     },
     "execution_count": 9,
     "metadata": {},
     "output_type": "execute_result"
    }
   ],
   "source": [
    "us_ulc = pd.read_table(\"US-ULC/pr.data.1.AllData\")\n",
    "us_ulc.head(2)"
   ]
  }
 ],
 "metadata": {
  "kernelspec": {
   "display_name": "Python 3 (ipykernel)",
   "language": "python",
   "name": "python3"
  },
  "language_info": {
   "codemirror_mode": {
    "name": "ipython",
    "version": 3
   },
   "file_extension": ".py",
   "mimetype": "text/x-python",
   "name": "python",
   "nbconvert_exporter": "python",
   "pygments_lexer": "ipython3",
   "version": "3.10.13"
  }
 },
 "nbformat": 4,
 "nbformat_minor": 5
}
