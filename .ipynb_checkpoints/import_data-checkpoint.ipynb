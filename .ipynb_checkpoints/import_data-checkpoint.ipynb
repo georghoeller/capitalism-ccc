{
 "cells": [
  {
   "cell_type": "markdown",
   "id": "c19cd9ea-b0fa-4c1b-9a44-4721f1766e4d",
   "metadata": {},
   "source": [
    "# Shaikh's real effective exchange rate\n",
    "### Calculations on the real effectice exchange rate between japan and the US \n",
    "\n",
    "The goal is to reproduce figure 11.4 and 11.5 from the book \"Capitalism - Competition, Conflict, Crises\" \n",
    "\n",
    "The real effective exchange rate is calculated as the vertically integrated unit labor costs (vulc) times a factor of the share of exports (tau).\n",
    "\n",
    "Theta can have the form of the share of exports over GDP (exp/gdp) or of consumer price index over producer price index (CPI/PPI)\n",
    "\n",
    "Therefore: \n",
    "\n",
    "$ \\frac{vulcr}{vulcr*} \\cdot \\frac{\\tau}{\\tau*}$\n",
    "\n",
    "or equivalent\n",
    "\n",
    "$ \\frac{(\\frac{ULC}{CPI})}{(\\frac{ULC*}{CPI*})} \\cdot \\frac{(\\frac{exp}{gdp})}{(\\frac{exp*}{gdp*})}$"
   ]
  },
  {
   "cell_type": "markdown",
   "id": "c153a879-3a55-4216-963d-488affd7eaf0",
   "metadata": {},
   "source": [
    "# import data"
   ]
  },
  {
   "cell_type": "markdown",
   "id": "e7adf7e2-d415-4dc3-a23e-acfce89c527d",
   "metadata": {},
   "source": [
    "### Japan"
   ]
  },
  {
   "cell_type": "code",
   "execution_count": 1,
   "id": "bf3d73f6-fbd8-4210-8636-fb7c04dd83f9",
   "metadata": {},
   "outputs": [],
   "source": [
    "import pandas as pd"
   ]
  },
  {
   "cell_type": "code",
   "execution_count": 2,
   "id": "de394cc6-5694-4a80-8dab-6b610d4a7ff1",
   "metadata": {},
   "outputs": [
    {
     "data": {
      "text/html": [
       "<div>\n",
       "<style scoped>\n",
       "    .dataframe tbody tr th:only-of-type {\n",
       "        vertical-align: middle;\n",
       "    }\n",
       "\n",
       "    .dataframe tbody tr th {\n",
       "        vertical-align: top;\n",
       "    }\n",
       "\n",
       "    .dataframe thead th {\n",
       "        text-align: right;\n",
       "    }\n",
       "</style>\n",
       "<table border=\"1\" class=\"dataframe\">\n",
       "  <thead>\n",
       "    <tr style=\"text-align: right;\">\n",
       "      <th></th>\n",
       "      <th>Country Name</th>\n",
       "      <th>Country Code</th>\n",
       "      <th>Indicator Name</th>\n",
       "      <th>Indicator Code</th>\n",
       "      <th>1960</th>\n",
       "      <th>1961</th>\n",
       "      <th>1962</th>\n",
       "      <th>1963</th>\n",
       "      <th>1964</th>\n",
       "      <th>1965</th>\n",
       "      <th>...</th>\n",
       "      <th>2015</th>\n",
       "      <th>2016</th>\n",
       "      <th>2017</th>\n",
       "      <th>2018</th>\n",
       "      <th>2019</th>\n",
       "      <th>2020</th>\n",
       "      <th>2021</th>\n",
       "      <th>2022</th>\n",
       "      <th>2023</th>\n",
       "      <th>Unnamed: 68</th>\n",
       "    </tr>\n",
       "  </thead>\n",
       "  <tbody>\n",
       "    <tr>\n",
       "      <th>0</th>\n",
       "      <td>Aruba</td>\n",
       "      <td>ABW</td>\n",
       "      <td>Exports of goods and services (% of GDP)</td>\n",
       "      <td>NE.EXP.GNFS.ZS</td>\n",
       "      <td>NaN</td>\n",
       "      <td>NaN</td>\n",
       "      <td>NaN</td>\n",
       "      <td>NaN</td>\n",
       "      <td>NaN</td>\n",
       "      <td>NaN</td>\n",
       "      <td>...</td>\n",
       "      <td>72.852913</td>\n",
       "      <td>71.820435</td>\n",
       "      <td>72.548690</td>\n",
       "      <td>72.252774</td>\n",
       "      <td>73.234592</td>\n",
       "      <td>55.32681</td>\n",
       "      <td>69.069709</td>\n",
       "      <td>83.124605</td>\n",
       "      <td>NaN</td>\n",
       "      <td>NaN</td>\n",
       "    </tr>\n",
       "    <tr>\n",
       "      <th>1</th>\n",
       "      <td>Africa Eastern and Southern</td>\n",
       "      <td>AFE</td>\n",
       "      <td>Exports of goods and services (% of GDP)</td>\n",
       "      <td>NE.EXP.GNFS.ZS</td>\n",
       "      <td>NaN</td>\n",
       "      <td>NaN</td>\n",
       "      <td>NaN</td>\n",
       "      <td>NaN</td>\n",
       "      <td>NaN</td>\n",
       "      <td>NaN</td>\n",
       "      <td>...</td>\n",
       "      <td>24.046024</td>\n",
       "      <td>23.249929</td>\n",
       "      <td>23.824897</td>\n",
       "      <td>25.315921</td>\n",
       "      <td>23.903124</td>\n",
       "      <td>22.03616</td>\n",
       "      <td>25.922406</td>\n",
       "      <td>27.595354</td>\n",
       "      <td>24.50316</td>\n",
       "      <td>NaN</td>\n",
       "    </tr>\n",
       "  </tbody>\n",
       "</table>\n",
       "<p>2 rows × 69 columns</p>\n",
       "</div>"
      ],
      "text/plain": [
       "                  Country Name Country Code  \\\n",
       "0                        Aruba          ABW   \n",
       "1  Africa Eastern and Southern          AFE   \n",
       "\n",
       "                             Indicator Name  Indicator Code  1960  1961  1962  \\\n",
       "0  Exports of goods and services (% of GDP)  NE.EXP.GNFS.ZS   NaN   NaN   NaN   \n",
       "1  Exports of goods and services (% of GDP)  NE.EXP.GNFS.ZS   NaN   NaN   NaN   \n",
       "\n",
       "   1963  1964  1965  ...       2015       2016       2017       2018  \\\n",
       "0   NaN   NaN   NaN  ...  72.852913  71.820435  72.548690  72.252774   \n",
       "1   NaN   NaN   NaN  ...  24.046024  23.249929  23.824897  25.315921   \n",
       "\n",
       "        2019      2020       2021       2022      2023  Unnamed: 68  \n",
       "0  73.234592  55.32681  69.069709  83.124605       NaN          NaN  \n",
       "1  23.903124  22.03616  25.922406  27.595354  24.50316          NaN  \n",
       "\n",
       "[2 rows x 69 columns]"
      ]
     },
     "execution_count": 2,
     "metadata": {},
     "output_type": "execute_result"
    }
   ],
   "source": [
    "exp_gdp = pd.read_csv(\"EXP-GDP/API_NE.EXP.GNFS.ZS_DS2_en_csv_v2_431603.csv\",skiprows=3,delimiter=\",\")\n",
    "exp_gdp.head(2)"
   ]
  },
  {
   "cell_type": "code",
   "execution_count": 3,
   "id": "bd1c5a04-e61d-4540-99ec-036b9b5ace63",
   "metadata": {},
   "outputs": [
    {
     "name": "stdout",
     "output_type": "stream",
     "text": [
      "Index(['Country Name', 'Country Code', 'Indicator Name', 'Indicator Code',\n",
      "       '1960', '1961', '1962', '1963', '1964', '1965', '1966', '1967', '1968',\n",
      "       '1969', '1970', '1971', '1972', '1973', '1974', '1975', '1976', '1977',\n",
      "       '1978', '1979', '1980', '1981', '1982', '1983', '1984', '1985', '1986',\n",
      "       '1987', '1988', '1989', '1990', '1991', '1992', '1993', '1994', '1995',\n",
      "       '1996', '1997', '1998', '1999', '2000', '2001', '2002', '2003', '2004',\n",
      "       '2005', '2006', '2007', '2008', '2009', '2010', '2011', '2012', '2013',\n",
      "       '2014', '2015', '2016', '2017', '2018', '2019', '2020', '2021', '2022',\n",
      "       '2023', 'Unnamed: 68'],\n",
      "      dtype='object')\n",
      "64\n",
      "      jpn_exp_gdp  usa_exp_gdp\n",
      "1960          NaN          NaN\n",
      "1961          NaN          NaN\n",
      "      jpn_exp_gdp  usa_exp_gdp\n",
      "2022    21.541723    11.633909\n",
      "2023          NaN          NaN\n"
     ]
    }
   ],
   "source": [
    "# % share of Exports over GDP on a YEARLY basis // starting from 1960 to 2023\n",
    "print(exp_gdp[exp_gdp[\"Country Code\"] == \"JPN\"].columns)\n",
    "\n",
    "exp_gdp_ss = exp_gdp[exp_gdp[\"Country Code\"].isin([\"JPN\",\"USA\"]) ].drop(\n",
    "    ['Country Name', 'Country Code', 'Indicator Name', 'Indicator Code','Unnamed: 68'],axis=1).T.rename(\n",
    "    columns={119:'jpn_exp_gdp',251:'usa_exp_gdp'})\n",
    "print(len(exp_gdp_ss))\n",
    "print(exp_gdp_ss.head(2))\n",
    "print(exp_gdp_ss.tail(2))"
   ]
  },
  {
   "cell_type": "markdown",
   "id": "c797ffdb-80d3-4941-ad56-f7895e129f0a",
   "metadata": {},
   "source": [
    "### USD YEN FX Rate"
   ]
  },
  {
   "cell_type": "code",
   "execution_count": 4,
   "id": "ccda0b62-6311-4278-a0f0-fe68b8f588d6",
   "metadata": {},
   "outputs": [
    {
     "name": "stdout",
     "output_type": "stream",
     "text": [
      "13784\n",
      "         date   value\n",
      "0  1971-01-04  357.73\n",
      "1  1971-01-05  357.81\n"
     ]
    }
   ],
   "source": [
    "# DAILY basis\n",
    "usd_yen = pd.read_csv(\"FX-Rate-USD-YEN/dollar-yen-exchange-rate-historical-chart.csv\",skiprows=15)\n",
    "print(len(usd_yen))\n",
    "print(usd_yen.head(2))"
   ]
  },
  {
   "cell_type": "code",
   "execution_count": 5,
   "id": "730f629c-b1ac-4c4e-8649-d82868ce7dd4",
   "metadata": {},
   "outputs": [
    {
     "data": {
      "text/html": [
       "<div>\n",
       "<style scoped>\n",
       "    .dataframe tbody tr th:only-of-type {\n",
       "        vertical-align: middle;\n",
       "    }\n",
       "\n",
       "    .dataframe tbody tr th {\n",
       "        vertical-align: top;\n",
       "    }\n",
       "\n",
       "    .dataframe thead th {\n",
       "        text-align: right;\n",
       "    }\n",
       "</style>\n",
       "<table border=\"1\" class=\"dataframe\">\n",
       "  <thead>\n",
       "    <tr style=\"text-align: right;\">\n",
       "      <th></th>\n",
       "      <th>date</th>\n",
       "      <th>value</th>\n",
       "      <th>month</th>\n",
       "      <th>year</th>\n",
       "    </tr>\n",
       "  </thead>\n",
       "  <tbody>\n",
       "    <tr>\n",
       "      <th>0</th>\n",
       "      <td>1971-01-04</td>\n",
       "      <td>357.73</td>\n",
       "      <td>1</td>\n",
       "      <td>1971</td>\n",
       "    </tr>\n",
       "    <tr>\n",
       "      <th>1</th>\n",
       "      <td>1971-01-05</td>\n",
       "      <td>357.81</td>\n",
       "      <td>1</td>\n",
       "      <td>1971</td>\n",
       "    </tr>\n",
       "  </tbody>\n",
       "</table>\n",
       "</div>"
      ],
      "text/plain": [
       "         date   value  month  year\n",
       "0  1971-01-04  357.73      1  1971\n",
       "1  1971-01-05  357.81      1  1971"
      ]
     },
     "execution_count": 5,
     "metadata": {},
     "output_type": "execute_result"
    }
   ],
   "source": [
    "usd_yen[\"month\"] = pd.to_datetime(usd_yen.date).dt.month\n",
    "usd_yen[\"year\"] = pd.to_datetime(usd_yen.date).dt.year\n",
    "usd_yen.head(2)"
   ]
  },
  {
   "cell_type": "code",
   "execution_count": 6,
   "id": "9cfe349d-2453-472d-822a-6c66465a3ab7",
   "metadata": {},
   "outputs": [
    {
     "name": "stdout",
     "output_type": "stream",
     "text": [
      "54\n",
      "          value     month\n",
      "year                     \n",
      "1971  347.78569  6.456067\n",
      "1972  303.12498  6.438247\n",
      "           value     month\n",
      "year                      \n",
      "2023  140.734001  6.677019\n",
      "2024  150.839595  2.765432\n"
     ]
    }
   ],
   "source": [
    "# YEARLY: 1970 to 2023\n",
    "usd_yen_yearly = usd_yen.groupby(\"year\").mean(\"value\")\n",
    "print(len(usd_yen_yearly))\n",
    "print(usd_yen_yearly.head(2))\n",
    "print(usd_yen_yearly.tail(2))"
   ]
  },
  {
   "cell_type": "markdown",
   "id": "f65601cf-2c6f-43a0-ad11-88d3536396d9",
   "metadata": {},
   "source": [
    "### JPN CPI (from World Bank, hence \"wb\")"
   ]
  },
  {
   "cell_type": "code",
   "execution_count": 7,
   "id": "d4d579ba-baa7-44bf-b6e0-689fba9728e2",
   "metadata": {},
   "outputs": [
    {
     "name": "stdout",
     "output_type": "stream",
     "text": [
      "64\n",
      "      jpn_cpi_wb  usa_cpi_wb\n",
      "1960   18.972569   13.563061\n",
      "1961   19.991104   13.708284\n",
      "      jpn_cpi_wb  usa_cpi_wb\n",
      "2022  107.839691  134.211206\n",
      "2023  111.364036  139.735794\n"
     ]
    }
   ],
   "source": [
    "# CPI from the world bank on a YEARLY basis // 1960 to 2022 // BASE = 2010\n",
    "\n",
    "#jpn_cpi = pd.read_csv(\"JPN-CPI/API_FP.CPI.TOTL_DS2_en_csv_v2_527528-PERC-CHANGE/API_FP.CPI.TOTL_DS2_en_csv_v2_527528.csv\",skiprows=3,delimiter=\",\")\n",
    "jpn_cpi = pd.read_csv(\"JPN-CPI/API_FP.CPI.TOTL_DS2_en_csv_v2_1584217.csv\",skiprows=3,delimiter=\",\")\n",
    "\n",
    "# _wb = WORLD BANK\n",
    "\n",
    "cpi_wb_ss = jpn_cpi[jpn_cpi[\"Country Code\"].isin([\"JPN\",\"USA\"]) ].drop(\n",
    "    ['Country Name', 'Country Code', 'Indicator Name', 'Indicator Code','Unnamed: 68'],axis=1).T.rename(\n",
    "    columns={119:'jpn_cpi_wb',251:'usa_cpi_wb'})\n",
    "\n",
    "print(len(cpi_wb_ss))\n",
    "print(cpi_wb_ss.head(2))\n",
    "print(cpi_wb_ss.tail(2))"
   ]
  },
  {
   "cell_type": "markdown",
   "id": "b829a822-d491-4a47-b94a-2cb9258ebd03",
   "metadata": {},
   "source": [
    "##### try us labour statistics example"
   ]
  },
  {
   "cell_type": "code",
   "execution_count": 8,
   "id": "572422f0-5caa-4568-b345-d859d90773a2",
   "metadata": {},
   "outputs": [
    {
     "data": {
      "text/plain": [
       "jpn_cpi_wb    102.667615\n",
       "usa_cpi_wb     78.970721\n",
       "Name: 2000, dtype: float64"
      ]
     },
     "execution_count": 8,
     "metadata": {},
     "output_type": "execute_result"
    }
   ],
   "source": [
    "cpi_wb_ss.loc[\"2000\",[\"jpn_cpi_wb\",\"usa_cpi_wb\"]]"
   ]
  },
  {
   "cell_type": "code",
   "execution_count": 9,
   "id": "7d83541c-e932-4ad3-8bdc-4fabf5290aff",
   "metadata": {},
   "outputs": [
    {
     "name": "stdout",
     "output_type": "stream",
     "text": [
      "jpn_cpi_wb     89.990858\n",
      "usa_cpi_wb    159.771535\n",
      "dtype: float64\n",
      "jpn_cpi_wb     92.391467\n",
      "usa_cpi_wb    126.172733\n",
      "dtype: float64\n"
     ]
    }
   ],
   "source": [
    "cpi_wb_base_2000 = (cpi_wb_ss/cpi_wb_ss.loc[\"2000\",[\"jpn_cpi_wb\",\"usa_cpi_wb\"]]) *100\n",
    "print(cpi_wb_base_2000.diff().sum())\n",
    "print(cpi_wb_ss.diff().sum())"
   ]
  },
  {
   "cell_type": "markdown",
   "id": "e8265a01-486d-4ac6-acb8-72083408add2",
   "metadata": {},
   "source": [
    "### SIDENOTE: offset rebased time series by difference in the differences of the series\n",
    "as it seems there is a rounding error in the rebased index\n",
    "\n",
    "What I have tried at this point: \n",
    "- tutorial by office of labour statistics (us): https://www.bls.gov/cpi/factsheets/rebasing.htm\n",
    "  - However, this in theory also leads to to just a time series that got divided by, in this case, the january 2015 index value (see chat gpt for the corresponding example)\n",
    "  - or just try to divide any index number by january 2015 value\n",
    "\n",
    "therefore, as it seems there is an round error issue here, since I have no other explanation"
   ]
  },
  {
   "cell_type": "code",
   "execution_count": 10,
   "id": "89792619-1f8e-4aa8-9690-c80c7d192149",
   "metadata": {},
   "outputs": [
    {
     "data": {
      "text/plain": [
       "<Axes: >"
      ]
     },
     "execution_count": 10,
     "metadata": {},
     "output_type": "execute_result"
    },
    {
     "data": {
      "image/png": "[encoded data removed]",
      "text/plain": [
       "<Figure size 640x480 with 1 Axes>"
      ]
     },
     "metadata": {},
     "output_type": "display_data"
    }
   ],
   "source": [
    "import numpy as np\n",
    "cpi_wb_base_2000[\"zeros\"] = np.zeros(len(cpi_wb_ss))\n",
    "\n",
    "cpi_wb_base_2000[\"usa_cpi_wb\"].diff().plot()\n",
    "cpi_wb_ss[\"usa_cpi_wb\"].diff().plot()\n",
    "(cpi_wb_base_2000[\"usa_cpi_wb\"].diff() - cpi_wb_ss[\"usa_cpi_wb\"].diff()).plot()\n",
    "cpi_wb_base_2000[\"zeros\"].plot()\n",
    "\n",
    "# looking at the figure below, it seems that the offset should be deducted from the base_2000 series, since the difference \n",
    "# is always positive"
   ]
  },
  {
   "cell_type": "markdown",
   "id": "d789ada4-ec61-4fb6-9f55-0813fecf9fc6",
   "metadata": {},
   "source": [
    "theoretically when deducting the difference of the differences from the \"cpi_wb_base_2000\" series, the differences should be gone. \n",
    "\n",
    "However, looking at the figure below, the differences (in green) are still not zero. "
   ]
  },
  {
   "cell_type": "code",
   "execution_count": 11,
   "id": "7c98b989-4831-43b4-8664-2855707d79c0",
   "metadata": {},
   "outputs": [],
   "source": [
    "# this is the offset time series\n",
    "cpi_wb_base_2000_ = cpi_wb_base_2000 - (cpi_wb_base_2000.diff().shift(-1) - cpi_wb_ss.diff().shift(-1))\n"
   ]
  },
  {
   "cell_type": "code",
   "execution_count": 12,
   "id": "e6599050-a86f-40c8-bda5-6207f53dc5f7",
   "metadata": {},
   "outputs": [
    {
     "data": {
      "text/plain": [
       "<Axes: >"
      ]
     },
     "execution_count": 12,
     "metadata": {},
     "output_type": "execute_result"
    },
    {
     "data": {
      "image/png": "[encoded data removed]",
      "text/plain": [
       "<Figure size 640x480 with 1 Axes>"
      ]
     },
     "metadata": {},
     "output_type": "display_data"
    }
   ],
   "source": [
    "# blue: theory: index minus difference of difference will offset false difference\n",
    "cpi_wb_base_2000_[\"usa_cpi_wb\"].diff().plot()\n",
    "\n",
    "# orange: comparison to baseline\n",
    "cpi_wb_ss[\"usa_cpi_wb\"].diff().plot()\n",
    "\n",
    "# green: diff minus diff equals zero\n",
    "(cpi_wb_base_2000_[\"usa_cpi_wb\"].diff() - cpi_wb_ss[\"usa_cpi_wb\"].diff()).plot()\n",
    "\n",
    "# zero baseline\n",
    "(cpi_wb_base_2000[\"zeros\"]-100).plot()"
   ]
  },
  {
   "cell_type": "code",
   "execution_count": 13,
   "id": "fbd9bb4a-7ab0-4306-9426-df81b8ef8adb",
   "metadata": {},
   "outputs": [
    {
     "data": {
      "text/plain": [
       "<Axes: >"
      ]
     },
     "execution_count": 13,
     "metadata": {},
     "output_type": "execute_result"
    },
    {
     "data": {
      "image/png": "[encoded data removed]",
      "text/plain": [
       "<Figure size 640x480 with 1 Axes>"
      ]
     },
     "metadata": {},
     "output_type": "display_data"
    }
   ],
   "source": [
    "# DIFFERENCE SHOULD BE ZERO!\n",
    "diffs_of_diffs=(cpi_wb_base_2000[\"usa_cpi_wb\"].diff()-cpi_wb_ss[\"usa_cpi_wb\"].diff())\n",
    "diffs_of_diffs.plot()"
   ]
  },
  {
   "cell_type": "code",
   "execution_count": 14,
   "id": "d1283c27-58d9-4f77-a95b-bcf24c358d51",
   "metadata": {},
   "outputs": [
    {
     "data": {
      "text/html": [
       "<div>\n",
       "<style scoped>\n",
       "    .dataframe tbody tr th:only-of-type {\n",
       "        vertical-align: middle;\n",
       "    }\n",
       "\n",
       "    .dataframe tbody tr th {\n",
       "        vertical-align: top;\n",
       "    }\n",
       "\n",
       "    .dataframe thead th {\n",
       "        text-align: right;\n",
       "    }\n",
       "</style>\n",
       "<table border=\"1\" class=\"dataframe\">\n",
       "  <thead>\n",
       "    <tr style=\"text-align: right;\">\n",
       "      <th></th>\n",
       "      <th>usa_cpi_wb</th>\n",
       "      <th>usa_cpi_wb</th>\n",
       "      <th>usa_cpi_wb</th>\n",
       "      <th>usa_cpi_wb</th>\n",
       "      <th>usa_cpi_wb</th>\n",
       "    </tr>\n",
       "  </thead>\n",
       "  <tbody>\n",
       "    <tr>\n",
       "      <th>1961</th>\n",
       "      <td>13.708284</td>\n",
       "      <td>17.358691</td>\n",
       "      <td>0.145223</td>\n",
       "      <td>0.183895</td>\n",
       "      <td>-0.038672</td>\n",
       "    </tr>\n",
       "    <tr>\n",
       "      <th>1962</th>\n",
       "      <td>13.872615</td>\n",
       "      <td>17.566783</td>\n",
       "      <td>0.164331</td>\n",
       "      <td>0.208091</td>\n",
       "      <td>-0.043760</td>\n",
       "    </tr>\n",
       "    <tr>\n",
       "      <th>1963</th>\n",
       "      <td>14.044590</td>\n",
       "      <td>17.784553</td>\n",
       "      <td>0.171975</td>\n",
       "      <td>0.217770</td>\n",
       "      <td>-0.045795</td>\n",
       "    </tr>\n",
       "    <tr>\n",
       "      <th>1964</th>\n",
       "      <td>14.224207</td>\n",
       "      <td>18.012002</td>\n",
       "      <td>0.179618</td>\n",
       "      <td>0.227449</td>\n",
       "      <td>-0.047831</td>\n",
       "    </tr>\n",
       "    <tr>\n",
       "      <th>1965</th>\n",
       "      <td>14.449685</td>\n",
       "      <td>18.297522</td>\n",
       "      <td>0.225478</td>\n",
       "      <td>0.285521</td>\n",
       "      <td>-0.060043</td>\n",
       "    </tr>\n",
       "    <tr>\n",
       "      <th>1966</th>\n",
       "      <td>14.885354</td>\n",
       "      <td>18.849206</td>\n",
       "      <td>0.435669</td>\n",
       "      <td>0.551684</td>\n",
       "      <td>-0.116015</td>\n",
       "    </tr>\n",
       "    <tr>\n",
       "      <th>1967</th>\n",
       "      <td>15.298093</td>\n",
       "      <td>19.371854</td>\n",
       "      <td>0.412739</td>\n",
       "      <td>0.522648</td>\n",
       "      <td>-0.109909</td>\n",
       "    </tr>\n",
       "    <tr>\n",
       "      <th>1968</th>\n",
       "      <td>15.951596</td>\n",
       "      <td>20.199381</td>\n",
       "      <td>0.653503</td>\n",
       "      <td>0.827526</td>\n",
       "      <td>-0.174023</td>\n",
       "    </tr>\n",
       "    <tr>\n",
       "      <th>1969</th>\n",
       "      <td>16.822934</td>\n",
       "      <td>21.302749</td>\n",
       "      <td>0.871338</td>\n",
       "      <td>1.103368</td>\n",
       "      <td>-0.232030</td>\n",
       "    </tr>\n",
       "  </tbody>\n",
       "</table>\n",
       "</div>"
      ],
      "text/plain": [
       "      usa_cpi_wb  usa_cpi_wb  usa_cpi_wb  usa_cpi_wb  usa_cpi_wb\n",
       "1961   13.708284   17.358691    0.145223    0.183895   -0.038672\n",
       "1962   13.872615   17.566783    0.164331    0.208091   -0.043760\n",
       "1963   14.044590   17.784553    0.171975    0.217770   -0.045795\n",
       "1964   14.224207   18.012002    0.179618    0.227449   -0.047831\n",
       "1965   14.449685   18.297522    0.225478    0.285521   -0.060043\n",
       "1966   14.885354   18.849206    0.435669    0.551684   -0.116015\n",
       "1967   15.298093   19.371854    0.412739    0.522648   -0.109909\n",
       "1968   15.951596   20.199381    0.653503    0.827526   -0.174023\n",
       "1969   16.822934   21.302749    0.871338    1.103368   -0.232030"
      ]
     },
     "execution_count": 14,
     "metadata": {},
     "output_type": "execute_result"
    }
   ],
   "source": [
    "# Notes for a chat gpt question\n",
    "\n",
    "pd.DataFrame([cpi_wb_ss[\"usa_cpi_wb\"][1:10],cpi_wb_base_2000[\"usa_cpi_wb\"][1:10],\n",
    " cpi_wb_ss[\"usa_cpi_wb\"].diff()[1:10],cpi_wb_base_2000[\"usa_cpi_wb\"].diff()[1:10],\n",
    "(cpi_wb_ss[\"usa_cpi_wb\"].diff()[1:10] - cpi_wb_base_2000[\"usa_cpi_wb\"].diff()[1:10]),\n",
    "]).T"
   ]
  },
  {
   "cell_type": "markdown",
   "id": "31616f85-727d-4333-bad0-d6c011f8c919",
   "metadata": {},
   "source": [
    "### JPN PPI "
   ]
  },
  {
   "cell_type": "code",
   "execution_count": 15,
   "id": "b8fb7990-a8f4-4f4e-a735-ba749cc09597",
   "metadata": {},
   "outputs": [
    {
     "name": "stdout",
     "output_type": "stream",
     "text": [
      "748\n",
      "         DATE  jpn_ppi\n",
      "0  1960-01-01  62.8903\n",
      "1  1960-02-01  62.8903\n",
      "           DATE  jpn_ppi\n",
      "746  2022-03-01     99.9\n",
      "747  2022-04-01    100.7\n"
     ]
    }
   ],
   "source": [
    "# finished goods PPI from FRED  on a MONTHLY basis // 1960 to 2022 // BASE = 2015\n",
    "jpn_ppi = pd.read_csv(\"JPN-PPI/PISPFG01JPM661N.csv\")\n",
    "jpn_ppi = jpn_ppi.rename(columns={'PISPFG01JPM661N':'jpn_ppi'})\n",
    "print(len(jpn_ppi))\n",
    "print(jpn_ppi.head(2))\n",
    "print(jpn_ppi.tail(2))"
   ]
  },
  {
   "cell_type": "code",
   "execution_count": 16,
   "id": "c1715246-48bc-4378-92d6-219adf0ba0f8",
   "metadata": {},
   "outputs": [],
   "source": [
    "jpn_ppi[\"date\"] = pd.to_datetime(jpn_ppi.DATE).dt.strftime('%Y-%m')\n",
    "jpn_ppi[\"year\"] = pd.to_datetime(jpn_ppi.date).dt.year\n",
    "jpn_ppi[\"month\"] = pd.to_datetime(jpn_ppi.date).dt.month\n",
    "jpn_ppi = jpn_ppi.set_index(\"date\")"
   ]
  },
  {
   "cell_type": "code",
   "execution_count": 17,
   "id": "df59db5a-aa80-49bb-8a84-a3e6506e1b23",
   "metadata": {},
   "outputs": [
    {
     "data": {
      "text/plain": [
       "<Axes: xlabel='date'>"
      ]
     },
     "execution_count": 17,
     "metadata": {},
     "output_type": "execute_result"
    },
    {
     "data": {
      "image/png": "[encoded data removed]",
      "text/plain": [
       "<Figure size 640x480 with 1 Axes>"
      ]
     },
     "metadata": {},
     "output_type": "display_data"
    }
   ],
   "source": [
    "jpn_ppi[\"jpn_ppi\"].plot()"
   ]
  },
  {
   "cell_type": "code",
   "execution_count": 18,
   "id": "79c94c7b-bd8d-4b6e-93f3-be64ad4072e0",
   "metadata": {},
   "outputs": [
    {
     "data": {
      "text/html": [
       "<div>\n",
       "<style scoped>\n",
       "    .dataframe tbody tr th:only-of-type {\n",
       "        vertical-align: middle;\n",
       "    }\n",
       "\n",
       "    .dataframe tbody tr th {\n",
       "        vertical-align: top;\n",
       "    }\n",
       "\n",
       "    .dataframe thead th {\n",
       "        text-align: right;\n",
       "    }\n",
       "</style>\n",
       "<table border=\"1\" class=\"dataframe\">\n",
       "  <thead>\n",
       "    <tr style=\"text-align: right;\">\n",
       "      <th></th>\n",
       "      <th>DATE</th>\n",
       "      <th>jpn_ppi</th>\n",
       "      <th>year</th>\n",
       "      <th>month</th>\n",
       "    </tr>\n",
       "    <tr>\n",
       "      <th>date</th>\n",
       "      <th></th>\n",
       "      <th></th>\n",
       "      <th></th>\n",
       "      <th></th>\n",
       "    </tr>\n",
       "  </thead>\n",
       "  <tbody>\n",
       "    <tr>\n",
       "      <th>2015-01</th>\n",
       "      <td>2015-01-01</td>\n",
       "      <td>99.5</td>\n",
       "      <td>2015</td>\n",
       "      <td>1</td>\n",
       "    </tr>\n",
       "    <tr>\n",
       "      <th>2015-02</th>\n",
       "      <td>2015-02-01</td>\n",
       "      <td>99.6</td>\n",
       "      <td>2015</td>\n",
       "      <td>2</td>\n",
       "    </tr>\n",
       "    <tr>\n",
       "      <th>2015-03</th>\n",
       "      <td>2015-03-01</td>\n",
       "      <td>99.8</td>\n",
       "      <td>2015</td>\n",
       "      <td>3</td>\n",
       "    </tr>\n",
       "    <tr>\n",
       "      <th>2015-04</th>\n",
       "      <td>2015-04-01</td>\n",
       "      <td>100.1</td>\n",
       "      <td>2015</td>\n",
       "      <td>4</td>\n",
       "    </tr>\n",
       "    <tr>\n",
       "      <th>2015-05</th>\n",
       "      <td>2015-05-01</td>\n",
       "      <td>100.4</td>\n",
       "      <td>2015</td>\n",
       "      <td>5</td>\n",
       "    </tr>\n",
       "    <tr>\n",
       "      <th>2015-06</th>\n",
       "      <td>2015-06-01</td>\n",
       "      <td>100.8</td>\n",
       "      <td>2015</td>\n",
       "      <td>6</td>\n",
       "    </tr>\n",
       "    <tr>\n",
       "      <th>2015-07</th>\n",
       "      <td>2015-07-01</td>\n",
       "      <td>100.5</td>\n",
       "      <td>2015</td>\n",
       "      <td>7</td>\n",
       "    </tr>\n",
       "    <tr>\n",
       "      <th>2015-08</th>\n",
       "      <td>2015-08-01</td>\n",
       "      <td>100.2</td>\n",
       "      <td>2015</td>\n",
       "      <td>8</td>\n",
       "    </tr>\n",
       "    <tr>\n",
       "      <th>2015-09</th>\n",
       "      <td>2015-09-01</td>\n",
       "      <td>99.8</td>\n",
       "      <td>2015</td>\n",
       "      <td>9</td>\n",
       "    </tr>\n",
       "    <tr>\n",
       "      <th>2015-10</th>\n",
       "      <td>2015-10-01</td>\n",
       "      <td>99.7</td>\n",
       "      <td>2015</td>\n",
       "      <td>10</td>\n",
       "    </tr>\n",
       "    <tr>\n",
       "      <th>2015-11</th>\n",
       "      <td>2015-11-01</td>\n",
       "      <td>100.0</td>\n",
       "      <td>2015</td>\n",
       "      <td>11</td>\n",
       "    </tr>\n",
       "    <tr>\n",
       "      <th>2015-12</th>\n",
       "      <td>2015-12-01</td>\n",
       "      <td>99.5</td>\n",
       "      <td>2015</td>\n",
       "      <td>12</td>\n",
       "    </tr>\n",
       "  </tbody>\n",
       "</table>\n",
       "</div>"
      ],
      "text/plain": [
       "               DATE  jpn_ppi  year  month\n",
       "date                                     \n",
       "2015-01  2015-01-01     99.5  2015      1\n",
       "2015-02  2015-02-01     99.6  2015      2\n",
       "2015-03  2015-03-01     99.8  2015      3\n",
       "2015-04  2015-04-01    100.1  2015      4\n",
       "2015-05  2015-05-01    100.4  2015      5\n",
       "2015-06  2015-06-01    100.8  2015      6\n",
       "2015-07  2015-07-01    100.5  2015      7\n",
       "2015-08  2015-08-01    100.2  2015      8\n",
       "2015-09  2015-09-01     99.8  2015      9\n",
       "2015-10  2015-10-01     99.7  2015     10\n",
       "2015-11  2015-11-01    100.0  2015     11\n",
       "2015-12  2015-12-01     99.5  2015     12"
      ]
     },
     "execution_count": 18,
     "metadata": {},
     "output_type": "execute_result"
    }
   ],
   "source": [
    "jpn_ppi[jpn_ppi[\"year\"] == 2015] "
   ]
  },
  {
   "cell_type": "code",
   "execution_count": 19,
   "id": "8411ae94-818f-4bdc-abea-223cdb757aa7",
   "metadata": {},
   "outputs": [
    {
     "name": "stdout",
     "output_type": "stream",
     "text": [
      "(63, 1)\n",
      "        jpn_ppi\n",
      "year           \n",
      "1960  62.774936\n",
      "1961  63.203433\n",
      "        jpn_ppi\n",
      "year           \n",
      "2021  96.833333\n",
      "2022  99.600000\n"
     ]
    }
   ],
   "source": [
    "# JPN PPI - YEARLY - 1960 to 2022 - BASE = 2015\n",
    "jpn_ppi_yearly = jpn_ppi.groupby(\"year\").mean(\"jpn_ppi\").drop(\"month\",axis=1)\n",
    "#jpn_ppi_yearly.drop(\"month\")\n",
    "print(jpn_ppi_yearly.shape)\n",
    "print(jpn_ppi_yearly.head(2))\n",
    "print(jpn_ppi_yearly.tail(2))"
   ]
  },
  {
   "cell_type": "code",
   "execution_count": 20,
   "id": "806bfd8f-cf9e-49bf-866b-798529f6a905",
   "metadata": {},
   "outputs": [
    {
     "data": {
      "text/plain": [
       "<Axes: xlabel='year'>"
      ]
     },
     "execution_count": 20,
     "metadata": {},
     "output_type": "execute_result"
    },
    {
     "data": {
      "image/png": "[encoded data removed]",
      "text/plain": [
       "<Figure size 640x480 with 1 Axes>"
      ]
     },
     "metadata": {},
     "output_type": "display_data"
    }
   ],
   "source": [
    "# rebase to 2000\n",
    "jpn_ppi_yearly = (jpn_ppi_yearly / jpn_ppi_yearly.loc[2000]) * 100\n",
    "jpn_ppi_yearly.plot()"
   ]
  },
  {
   "cell_type": "markdown",
   "id": "4fcf1d3e-0c36-426f-be63-0cebe03b6d80",
   "metadata": {},
   "source": [
    "### JPN ULC"
   ]
  },
  {
   "cell_type": "code",
   "execution_count": 21,
   "id": "7536642e-9fb5-4eea-9267-42b339cb93ae",
   "metadata": {},
   "outputs": [
    {
     "name": "stdout",
     "output_type": "stream",
     "text": [
      "175\n",
      "         DATE    jpn_ulc\n",
      "0  1980-01-01  67.467467\n",
      "1  1980-04-01  68.412182\n",
      "           DATE     jpn_ulc\n",
      "173  2023-04-01  107.630371\n",
      "174  2023-07-01  107.373853\n"
     ]
    }
   ],
   "source": [
    "# UNIT LABOR COSTS FROM FRED  1980 to 2023 // BASE = 2015\n",
    "jpn_ulc = pd.read_csv(\"JPN-ULC/ULQECU01JPQ661S.csv\")\n",
    "jpn_ulc = jpn_ulc.rename(columns={'ULQECU01JPQ661S':'jpn_ulc'})\n",
    "print(len(jpn_ulc))\n",
    "print(jpn_ulc.head(2))\n",
    "print(jpn_ulc.tail(2))"
   ]
  },
  {
   "cell_type": "code",
   "execution_count": 22,
   "id": "ec638d2f-4dc8-4bf2-8d4c-1d38a9cc804a",
   "metadata": {},
   "outputs": [],
   "source": [
    "jpn_ulc[\"date\"] = pd.to_datetime(jpn_ulc.DATE).dt.strftime('%Y-%m')\n",
    "jpn_ulc[\"year\"] = pd.to_datetime(jpn_ulc.date).dt.year\n",
    "jpn_ulc[\"month\"] = pd.to_datetime(jpn_ulc.date).dt.month\n",
    "jpn_ulc = jpn_ulc.set_index(\"date\")"
   ]
  },
  {
   "cell_type": "code",
   "execution_count": 23,
   "id": "a7bf3235-183f-462d-8194-bfd034dd815a",
   "metadata": {},
   "outputs": [
    {
     "data": {
      "text/html": [
       "<div>\n",
       "<style scoped>\n",
       "    .dataframe tbody tr th:only-of-type {\n",
       "        vertical-align: middle;\n",
       "    }\n",
       "\n",
       "    .dataframe tbody tr th {\n",
       "        vertical-align: top;\n",
       "    }\n",
       "\n",
       "    .dataframe thead th {\n",
       "        text-align: right;\n",
       "    }\n",
       "</style>\n",
       "<table border=\"1\" class=\"dataframe\">\n",
       "  <thead>\n",
       "    <tr style=\"text-align: right;\">\n",
       "      <th></th>\n",
       "      <th>DATE</th>\n",
       "      <th>jpn_ulc</th>\n",
       "      <th>year</th>\n",
       "      <th>month</th>\n",
       "    </tr>\n",
       "    <tr>\n",
       "      <th>date</th>\n",
       "      <th></th>\n",
       "      <th></th>\n",
       "      <th></th>\n",
       "      <th></th>\n",
       "    </tr>\n",
       "  </thead>\n",
       "  <tbody>\n",
       "    <tr>\n",
       "      <th>1980-01</th>\n",
       "      <td>1980-01-01</td>\n",
       "      <td>67.467467</td>\n",
       "      <td>1980</td>\n",
       "      <td>1</td>\n",
       "    </tr>\n",
       "    <tr>\n",
       "      <th>1980-04</th>\n",
       "      <td>1980-04-01</td>\n",
       "      <td>68.412182</td>\n",
       "      <td>1980</td>\n",
       "      <td>4</td>\n",
       "    </tr>\n",
       "    <tr>\n",
       "      <th>1980-07</th>\n",
       "      <td>1980-07-01</td>\n",
       "      <td>69.825397</td>\n",
       "      <td>1980</td>\n",
       "      <td>7</td>\n",
       "    </tr>\n",
       "    <tr>\n",
       "      <th>1980-10</th>\n",
       "      <td>1980-10-01</td>\n",
       "      <td>71.194260</td>\n",
       "      <td>1980</td>\n",
       "      <td>10</td>\n",
       "    </tr>\n",
       "    <tr>\n",
       "      <th>1981-01</th>\n",
       "      <td>1981-01-01</td>\n",
       "      <td>71.734394</td>\n",
       "      <td>1981</td>\n",
       "      <td>1</td>\n",
       "    </tr>\n",
       "    <tr>\n",
       "      <th>...</th>\n",
       "      <td>...</td>\n",
       "      <td>...</td>\n",
       "      <td>...</td>\n",
       "      <td>...</td>\n",
       "    </tr>\n",
       "    <tr>\n",
       "      <th>2022-07</th>\n",
       "      <td>2022-07-01</td>\n",
       "      <td>106.335674</td>\n",
       "      <td>2022</td>\n",
       "      <td>7</td>\n",
       "    </tr>\n",
       "    <tr>\n",
       "      <th>2022-10</th>\n",
       "      <td>2022-10-01</td>\n",
       "      <td>107.090846</td>\n",
       "      <td>2022</td>\n",
       "      <td>10</td>\n",
       "    </tr>\n",
       "    <tr>\n",
       "      <th>2023-01</th>\n",
       "      <td>2023-01-01</td>\n",
       "      <td>107.333578</td>\n",
       "      <td>2023</td>\n",
       "      <td>1</td>\n",
       "    </tr>\n",
       "    <tr>\n",
       "      <th>2023-04</th>\n",
       "      <td>2023-04-01</td>\n",
       "      <td>107.630371</td>\n",
       "      <td>2023</td>\n",
       "      <td>4</td>\n",
       "    </tr>\n",
       "    <tr>\n",
       "      <th>2023-07</th>\n",
       "      <td>2023-07-01</td>\n",
       "      <td>107.373853</td>\n",
       "      <td>2023</td>\n",
       "      <td>7</td>\n",
       "    </tr>\n",
       "  </tbody>\n",
       "</table>\n",
       "<p>175 rows × 4 columns</p>\n",
       "</div>"
      ],
      "text/plain": [
       "               DATE     jpn_ulc  year  month\n",
       "date                                        \n",
       "1980-01  1980-01-01   67.467467  1980      1\n",
       "1980-04  1980-04-01   68.412182  1980      4\n",
       "1980-07  1980-07-01   69.825397  1980      7\n",
       "1980-10  1980-10-01   71.194260  1980     10\n",
       "1981-01  1981-01-01   71.734394  1981      1\n",
       "...             ...         ...   ...    ...\n",
       "2022-07  2022-07-01  106.335674  2022      7\n",
       "2022-10  2022-10-01  107.090846  2022     10\n",
       "2023-01  2023-01-01  107.333578  2023      1\n",
       "2023-04  2023-04-01  107.630371  2023      4\n",
       "2023-07  2023-07-01  107.373853  2023      7\n",
       "\n",
       "[175 rows x 4 columns]"
      ]
     },
     "execution_count": 23,
     "metadata": {},
     "output_type": "execute_result"
    }
   ],
   "source": [
    "jpn_ulc"
   ]
  },
  {
   "cell_type": "code",
   "execution_count": 24,
   "id": "16141419-ed5c-4a02-9ad6-8b5e07ebf492",
   "metadata": {},
   "outputs": [
    {
     "data": {
      "text/html": [
       "<div>\n",
       "<style scoped>\n",
       "    .dataframe tbody tr th:only-of-type {\n",
       "        vertical-align: middle;\n",
       "    }\n",
       "\n",
       "    .dataframe tbody tr th {\n",
       "        vertical-align: top;\n",
       "    }\n",
       "\n",
       "    .dataframe thead th {\n",
       "        text-align: right;\n",
       "    }\n",
       "</style>\n",
       "<table border=\"1\" class=\"dataframe\">\n",
       "  <thead>\n",
       "    <tr style=\"text-align: right;\">\n",
       "      <th></th>\n",
       "      <th>DATE</th>\n",
       "      <th>jpn_ulc</th>\n",
       "      <th>year</th>\n",
       "      <th>month</th>\n",
       "    </tr>\n",
       "    <tr>\n",
       "      <th>date</th>\n",
       "      <th></th>\n",
       "      <th></th>\n",
       "      <th></th>\n",
       "      <th></th>\n",
       "    </tr>\n",
       "  </thead>\n",
       "  <tbody>\n",
       "    <tr>\n",
       "      <th>2015-01</th>\n",
       "      <td>2015-01-01</td>\n",
       "      <td>99.753560</td>\n",
       "      <td>2015</td>\n",
       "      <td>1</td>\n",
       "    </tr>\n",
       "    <tr>\n",
       "      <th>2015-04</th>\n",
       "      <td>2015-04-01</td>\n",
       "      <td>99.757552</td>\n",
       "      <td>2015</td>\n",
       "      <td>4</td>\n",
       "    </tr>\n",
       "    <tr>\n",
       "      <th>2015-07</th>\n",
       "      <td>2015-07-01</td>\n",
       "      <td>100.141589</td>\n",
       "      <td>2015</td>\n",
       "      <td>7</td>\n",
       "    </tr>\n",
       "    <tr>\n",
       "      <th>2015-10</th>\n",
       "      <td>2015-10-01</td>\n",
       "      <td>100.347299</td>\n",
       "      <td>2015</td>\n",
       "      <td>10</td>\n",
       "    </tr>\n",
       "  </tbody>\n",
       "</table>\n",
       "</div>"
      ],
      "text/plain": [
       "               DATE     jpn_ulc  year  month\n",
       "date                                        \n",
       "2015-01  2015-01-01   99.753560  2015      1\n",
       "2015-04  2015-04-01   99.757552  2015      4\n",
       "2015-07  2015-07-01  100.141589  2015      7\n",
       "2015-10  2015-10-01  100.347299  2015     10"
      ]
     },
     "execution_count": 24,
     "metadata": {},
     "output_type": "execute_result"
    }
   ],
   "source": [
    "jpn_ulc[jpn_ulc.year == 2015]"
   ]
  },
  {
   "cell_type": "code",
   "execution_count": 25,
   "id": "c6d5731b-95c5-4487-b4e0-c477b98fc180",
   "metadata": {},
   "outputs": [
    {
     "name": "stdout",
     "output_type": "stream",
     "text": [
      "(44, 1)\n"
     ]
    },
    {
     "data": {
      "text/html": [
       "<div>\n",
       "<style scoped>\n",
       "    .dataframe tbody tr th:only-of-type {\n",
       "        vertical-align: middle;\n",
       "    }\n",
       "\n",
       "    .dataframe tbody tr th {\n",
       "        vertical-align: top;\n",
       "    }\n",
       "\n",
       "    .dataframe thead th {\n",
       "        text-align: right;\n",
       "    }\n",
       "</style>\n",
       "<table border=\"1\" class=\"dataframe\">\n",
       "  <thead>\n",
       "    <tr style=\"text-align: right;\">\n",
       "      <th></th>\n",
       "      <th>jpn_ulc</th>\n",
       "    </tr>\n",
       "    <tr>\n",
       "      <th>year</th>\n",
       "      <th></th>\n",
       "    </tr>\n",
       "  </thead>\n",
       "  <tbody>\n",
       "    <tr>\n",
       "      <th>1980</th>\n",
       "      <td>69.224826</td>\n",
       "    </tr>\n",
       "    <tr>\n",
       "      <th>1981</th>\n",
       "      <td>73.788575</td>\n",
       "    </tr>\n",
       "  </tbody>\n",
       "</table>\n",
       "</div>"
      ],
      "text/plain": [
       "        jpn_ulc\n",
       "year           \n",
       "1980  69.224826\n",
       "1981  73.788575"
      ]
     },
     "execution_count": 25,
     "metadata": {},
     "output_type": "execute_result"
    }
   ],
   "source": [
    "jpn_ulc_yearly = jpn_ulc.groupby(\"year\").mean(\"jpn_ulc\").drop(\"month\",axis=1)\n",
    "print(jpn_ulc_yearly.shape)\n",
    "jpn_ulc_yearly.head(2)"
   ]
  },
  {
   "cell_type": "code",
   "execution_count": 26,
   "id": "6a5a3144-2d8c-4132-9120-04ccabb975cc",
   "metadata": {},
   "outputs": [
    {
     "data": {
      "text/plain": [
       "<Axes: xlabel='year'>"
      ]
     },
     "execution_count": 26,
     "metadata": {},
     "output_type": "execute_result"
    },
    {
     "data": {
      "image/png": "[encoded data removed]",
      "text/plain": [
       "<Figure size 640x480 with 1 Axes>"
      ]
     },
     "metadata": {},
     "output_type": "display_data"
    }
   ],
   "source": [
    "jpn_ulc_yearly = (jpn_ulc_yearly / jpn_ulc_yearly.loc[2000]) * 100\n",
    "jpn_ulc_yearly.plot()"
   ]
  },
  {
   "cell_type": "markdown",
   "id": "89aae2e1-ba76-44c2-a158-6b52dec5e41a",
   "metadata": {},
   "source": [
    "### United States"
   ]
  },
  {
   "cell_type": "markdown",
   "id": "b817065d-e3ab-4b6b-a2f7-254ea4448e14",
   "metadata": {},
   "source": [
    "### US CPI\n",
    "US CPI Time series selection from the file \"cu.series\". Basically it lists all the series  codes which time series does  mean what.\n",
    "\n",
    "the following series is the most appropirate since it is us city average:\n",
    "\n",
    "CUSR0000SA0      \t0000\tSA0\tS\tR\tS\t1982-84=100\tAll items in U.S. city average, all urban consumers, seasonally adjusted\t\t1947\tM01\t2024\tM05"
   ]
  },
  {
   "cell_type": "code",
   "execution_count": 27,
   "id": "21877b1a-e091-4251-8318-a9c03d36f58e",
   "metadata": {},
   "outputs": [
    {
     "name": "stdout",
     "output_type": "stream",
     "text": [
      "61705\n"
     ]
    },
    {
     "data": {
      "text/html": [
       "<div>\n",
       "<style scoped>\n",
       "    .dataframe tbody tr th:only-of-type {\n",
       "        vertical-align: middle;\n",
       "    }\n",
       "\n",
       "    .dataframe tbody tr th {\n",
       "        vertical-align: top;\n",
       "    }\n",
       "\n",
       "    .dataframe thead th {\n",
       "        text-align: right;\n",
       "    }\n",
       "</style>\n",
       "<table border=\"1\" class=\"dataframe\">\n",
       "  <thead>\n",
       "    <tr style=\"text-align: right;\">\n",
       "      <th></th>\n",
       "      <th>series_id</th>\n",
       "      <th>year</th>\n",
       "      <th>period</th>\n",
       "      <th>value</th>\n",
       "      <th>footnote_codes</th>\n",
       "    </tr>\n",
       "  </thead>\n",
       "  <tbody>\n",
       "    <tr>\n",
       "      <th>0</th>\n",
       "      <td>CUSR0000SA0</td>\n",
       "      <td>1947</td>\n",
       "      <td>M01</td>\n",
       "      <td>21.48</td>\n",
       "      <td>NaN</td>\n",
       "    </tr>\n",
       "    <tr>\n",
       "      <th>1</th>\n",
       "      <td>CUSR0000SA0</td>\n",
       "      <td>1947</td>\n",
       "      <td>M02</td>\n",
       "      <td>21.62</td>\n",
       "      <td>NaN</td>\n",
       "    </tr>\n",
       "    <tr>\n",
       "      <th>2</th>\n",
       "      <td>CUSR0000SA0</td>\n",
       "      <td>1947</td>\n",
       "      <td>M03</td>\n",
       "      <td>22.00</td>\n",
       "      <td>NaN</td>\n",
       "    </tr>\n",
       "    <tr>\n",
       "      <th>3</th>\n",
       "      <td>CUSR0000SA0</td>\n",
       "      <td>1947</td>\n",
       "      <td>M04</td>\n",
       "      <td>22.00</td>\n",
       "      <td>NaN</td>\n",
       "    </tr>\n",
       "    <tr>\n",
       "      <th>4</th>\n",
       "      <td>CUSR0000SA0</td>\n",
       "      <td>1947</td>\n",
       "      <td>M05</td>\n",
       "      <td>21.95</td>\n",
       "      <td>NaN</td>\n",
       "    </tr>\n",
       "    <tr>\n",
       "      <th>5</th>\n",
       "      <td>CUSR0000SA0</td>\n",
       "      <td>1947</td>\n",
       "      <td>M06</td>\n",
       "      <td>22.08</td>\n",
       "      <td>NaN</td>\n",
       "    </tr>\n",
       "    <tr>\n",
       "      <th>6</th>\n",
       "      <td>CUSR0000SA0</td>\n",
       "      <td>1947</td>\n",
       "      <td>M07</td>\n",
       "      <td>22.23</td>\n",
       "      <td>NaN</td>\n",
       "    </tr>\n",
       "    <tr>\n",
       "      <th>7</th>\n",
       "      <td>CUSR0000SA0</td>\n",
       "      <td>1947</td>\n",
       "      <td>M08</td>\n",
       "      <td>22.40</td>\n",
       "      <td>NaN</td>\n",
       "    </tr>\n",
       "    <tr>\n",
       "      <th>8</th>\n",
       "      <td>CUSR0000SA0</td>\n",
       "      <td>1947</td>\n",
       "      <td>M09</td>\n",
       "      <td>22.84</td>\n",
       "      <td>NaN</td>\n",
       "    </tr>\n",
       "    <tr>\n",
       "      <th>9</th>\n",
       "      <td>CUSR0000SA0</td>\n",
       "      <td>1947</td>\n",
       "      <td>M10</td>\n",
       "      <td>22.91</td>\n",
       "      <td>NaN</td>\n",
       "    </tr>\n",
       "    <tr>\n",
       "      <th>10</th>\n",
       "      <td>CUSR0000SA0</td>\n",
       "      <td>1947</td>\n",
       "      <td>M11</td>\n",
       "      <td>23.06</td>\n",
       "      <td>NaN</td>\n",
       "    </tr>\n",
       "    <tr>\n",
       "      <th>11</th>\n",
       "      <td>CUSR0000SA0</td>\n",
       "      <td>1947</td>\n",
       "      <td>M12</td>\n",
       "      <td>23.41</td>\n",
       "      <td>NaN</td>\n",
       "    </tr>\n",
       "    <tr>\n",
       "      <th>12</th>\n",
       "      <td>CUSR0000SA0</td>\n",
       "      <td>1948</td>\n",
       "      <td>M01</td>\n",
       "      <td>23.68</td>\n",
       "      <td>NaN</td>\n",
       "    </tr>\n",
       "    <tr>\n",
       "      <th>13</th>\n",
       "      <td>CUSR0000SA0</td>\n",
       "      <td>1948</td>\n",
       "      <td>M02</td>\n",
       "      <td>23.67</td>\n",
       "      <td>NaN</td>\n",
       "    </tr>\n",
       "  </tbody>\n",
       "</table>\n",
       "</div>"
      ],
      "text/plain": [
       "      series_id  year period  value  footnote_codes\n",
       "0   CUSR0000SA0  1947    M01  21.48             NaN\n",
       "1   CUSR0000SA0  1947    M02  21.62             NaN\n",
       "2   CUSR0000SA0  1947    M03  22.00             NaN\n",
       "3   CUSR0000SA0  1947    M04  22.00             NaN\n",
       "4   CUSR0000SA0  1947    M05  21.95             NaN\n",
       "5   CUSR0000SA0  1947    M06  22.08             NaN\n",
       "6   CUSR0000SA0  1947    M07  22.23             NaN\n",
       "7   CUSR0000SA0  1947    M08  22.40             NaN\n",
       "8   CUSR0000SA0  1947    M09  22.84             NaN\n",
       "9   CUSR0000SA0  1947    M10  22.91             NaN\n",
       "10  CUSR0000SA0  1947    M11  23.06             NaN\n",
       "11  CUSR0000SA0  1947    M12  23.41             NaN\n",
       "12  CUSR0000SA0  1948    M01  23.68             NaN\n",
       "13  CUSR0000SA0  1948    M02  23.67             NaN"
      ]
     },
     "execution_count": 27,
     "metadata": {},
     "output_type": "execute_result"
    }
   ],
   "source": [
    "us_cpi = pd.read_table(\"US-CPI/cu.data.1.AllItems\",sep=\"\\s+\",engine='python')\n",
    "print(len(us_cpi))\n",
    "us_cpi.head(14)"
   ]
  },
  {
   "cell_type": "code",
   "execution_count": 28,
   "id": "73d91136-7c74-4196-bc1a-7700e036e135",
   "metadata": {},
   "outputs": [
    {
     "name": "stdout",
     "output_type": "stream",
     "text": [
      "Index(['series_id', 'year', 'period', 'value', 'footnote_codes'], dtype='object')\n"
     ]
    }
   ],
   "source": [
    "# avoided the wthiespace problem with an \"\\s+\" import, meaning that all white spaces are explicitly used, not the first row only\n",
    "print(us_cpi.columns)\n",
    "#us_cpi_colnames = [colname.strip() for colname in list(us_cpi.columns.values)]\n",
    "#us_cpi_colnames"
   ]
  },
  {
   "cell_type": "code",
   "execution_count": 29,
   "id": "4b9cd6d8-5aa6-4c93-baca-aeedc2733deb",
   "metadata": {},
   "outputs": [
    {
     "name": "stdout",
     "output_type": "stream",
     "text": [
      "929\n"
     ]
    },
    {
     "data": {
      "text/html": [
       "<div>\n",
       "<style scoped>\n",
       "    .dataframe tbody tr th:only-of-type {\n",
       "        vertical-align: middle;\n",
       "    }\n",
       "\n",
       "    .dataframe tbody tr th {\n",
       "        vertical-align: top;\n",
       "    }\n",
       "\n",
       "    .dataframe thead th {\n",
       "        text-align: right;\n",
       "    }\n",
       "</style>\n",
       "<table border=\"1\" class=\"dataframe\">\n",
       "  <thead>\n",
       "    <tr style=\"text-align: right;\">\n",
       "      <th></th>\n",
       "      <th>series_id</th>\n",
       "      <th>year</th>\n",
       "      <th>period</th>\n",
       "      <th>value</th>\n",
       "      <th>footnote_codes</th>\n",
       "    </tr>\n",
       "  </thead>\n",
       "  <tbody>\n",
       "    <tr>\n",
       "      <th>0</th>\n",
       "      <td>CUSR0000SA0</td>\n",
       "      <td>1947</td>\n",
       "      <td>M01</td>\n",
       "      <td>21.48</td>\n",
       "      <td>NaN</td>\n",
       "    </tr>\n",
       "    <tr>\n",
       "      <th>1</th>\n",
       "      <td>CUSR0000SA0</td>\n",
       "      <td>1947</td>\n",
       "      <td>M02</td>\n",
       "      <td>21.62</td>\n",
       "      <td>NaN</td>\n",
       "    </tr>\n",
       "    <tr>\n",
       "      <th>2</th>\n",
       "      <td>CUSR0000SA0</td>\n",
       "      <td>1947</td>\n",
       "      <td>M03</td>\n",
       "      <td>22.00</td>\n",
       "      <td>NaN</td>\n",
       "    </tr>\n",
       "    <tr>\n",
       "      <th>3</th>\n",
       "      <td>CUSR0000SA0</td>\n",
       "      <td>1947</td>\n",
       "      <td>M04</td>\n",
       "      <td>22.00</td>\n",
       "      <td>NaN</td>\n",
       "    </tr>\n",
       "    <tr>\n",
       "      <th>4</th>\n",
       "      <td>CUSR0000SA0</td>\n",
       "      <td>1947</td>\n",
       "      <td>M05</td>\n",
       "      <td>21.95</td>\n",
       "      <td>NaN</td>\n",
       "    </tr>\n",
       "    <tr>\n",
       "      <th>5</th>\n",
       "      <td>CUSR0000SA0</td>\n",
       "      <td>1947</td>\n",
       "      <td>M06</td>\n",
       "      <td>22.08</td>\n",
       "      <td>NaN</td>\n",
       "    </tr>\n",
       "    <tr>\n",
       "      <th>6</th>\n",
       "      <td>CUSR0000SA0</td>\n",
       "      <td>1947</td>\n",
       "      <td>M07</td>\n",
       "      <td>22.23</td>\n",
       "      <td>NaN</td>\n",
       "    </tr>\n",
       "    <tr>\n",
       "      <th>7</th>\n",
       "      <td>CUSR0000SA0</td>\n",
       "      <td>1947</td>\n",
       "      <td>M08</td>\n",
       "      <td>22.40</td>\n",
       "      <td>NaN</td>\n",
       "    </tr>\n",
       "    <tr>\n",
       "      <th>8</th>\n",
       "      <td>CUSR0000SA0</td>\n",
       "      <td>1947</td>\n",
       "      <td>M09</td>\n",
       "      <td>22.84</td>\n",
       "      <td>NaN</td>\n",
       "    </tr>\n",
       "    <tr>\n",
       "      <th>9</th>\n",
       "      <td>CUSR0000SA0</td>\n",
       "      <td>1947</td>\n",
       "      <td>M10</td>\n",
       "      <td>22.91</td>\n",
       "      <td>NaN</td>\n",
       "    </tr>\n",
       "    <tr>\n",
       "      <th>10</th>\n",
       "      <td>CUSR0000SA0</td>\n",
       "      <td>1947</td>\n",
       "      <td>M11</td>\n",
       "      <td>23.06</td>\n",
       "      <td>NaN</td>\n",
       "    </tr>\n",
       "    <tr>\n",
       "      <th>11</th>\n",
       "      <td>CUSR0000SA0</td>\n",
       "      <td>1947</td>\n",
       "      <td>M12</td>\n",
       "      <td>23.41</td>\n",
       "      <td>NaN</td>\n",
       "    </tr>\n",
       "    <tr>\n",
       "      <th>12</th>\n",
       "      <td>CUSR0000SA0</td>\n",
       "      <td>1948</td>\n",
       "      <td>M01</td>\n",
       "      <td>23.68</td>\n",
       "      <td>NaN</td>\n",
       "    </tr>\n",
       "    <tr>\n",
       "      <th>13</th>\n",
       "      <td>CUSR0000SA0</td>\n",
       "      <td>1948</td>\n",
       "      <td>M02</td>\n",
       "      <td>23.67</td>\n",
       "      <td>NaN</td>\n",
       "    </tr>\n",
       "  </tbody>\n",
       "</table>\n",
       "</div>"
      ],
      "text/plain": [
       "      series_id  year period  value  footnote_codes\n",
       "0   CUSR0000SA0  1947    M01  21.48             NaN\n",
       "1   CUSR0000SA0  1947    M02  21.62             NaN\n",
       "2   CUSR0000SA0  1947    M03  22.00             NaN\n",
       "3   CUSR0000SA0  1947    M04  22.00             NaN\n",
       "4   CUSR0000SA0  1947    M05  21.95             NaN\n",
       "5   CUSR0000SA0  1947    M06  22.08             NaN\n",
       "6   CUSR0000SA0  1947    M07  22.23             NaN\n",
       "7   CUSR0000SA0  1947    M08  22.40             NaN\n",
       "8   CUSR0000SA0  1947    M09  22.84             NaN\n",
       "9   CUSR0000SA0  1947    M10  22.91             NaN\n",
       "10  CUSR0000SA0  1947    M11  23.06             NaN\n",
       "11  CUSR0000SA0  1947    M12  23.41             NaN\n",
       "12  CUSR0000SA0  1948    M01  23.68             NaN\n",
       "13  CUSR0000SA0  1948    M02  23.67             NaN"
      ]
     },
     "execution_count": 29,
     "metadata": {},
     "output_type": "execute_result"
    }
   ],
   "source": [
    "us_cpi_ss = us_cpi[us_cpi['series_id'] == 'CUSR0000SA0']\n",
    "print(len(us_cpi_ss))\n",
    "us_cpi_ss.head(14) # period of M13 sould be the yearly average \n",
    "\n",
    "# but since there is no M13, yearly average can be calculated"
   ]
  },
  {
   "cell_type": "code",
   "execution_count": 30,
   "id": "0629ae12-5dfb-4e41-b7bf-fb99a3043b00",
   "metadata": {},
   "outputs": [
    {
     "name": "stdout",
     "output_type": "stream",
     "text": [
      "78\n",
      "          value\n",
      "year           \n",
      "1947  22.331667\n",
      "1948  24.045000\n",
      "          value\n",
      "year           \n",
      "2023  304.70075\n",
      "2024  311.88020\n"
     ]
    }
   ],
   "source": [
    "us_cpi_ss_yearly = us_cpi_ss.groupby(\"year\").mean(\"value\").drop(\"footnote_codes\",axis=1)\n",
    "print(len(us_cpi_ss_yearly))\n",
    "print(us_cpi_ss_yearly.head(2))\n",
    "print(us_cpi_ss_yearly.tail(2))"
   ]
  },
  {
   "cell_type": "code",
   "execution_count": 31,
   "id": "3b3a8564-cee9-46f1-94c0-2260e1d0c9f6",
   "metadata": {},
   "outputs": [
    {
     "data": {
      "text/plain": [
       "<Axes: xlabel='year'>"
      ]
     },
     "execution_count": 31,
     "metadata": {},
     "output_type": "execute_result"
    },
    {
     "data": {
      "image/png": "[encoded data removed]",
      "text/plain": [
       "<Figure size 640x480 with 1 Axes>"
      ]
     },
     "metadata": {},
     "output_type": "display_data"
    }
   ],
   "source": [
    "us_cpi_ss_yearly = (us_cpi_ss_yearly / us_cpi_ss_yearly.loc[2000]) * 100\n",
    "us_cpi_ss_yearly.plot()"
   ]
  },
  {
   "cell_type": "markdown",
   "id": "98b0a723-618e-4abd-904b-4f0a765b163a",
   "metadata": {},
   "source": [
    "### US Producer Price Index \n",
    "the producer price index for the us does not have a total aggregate, however, the two series that fit the closest are the following: \n",
    "\n",
    "PCUOMFG--OMFG--               \tOMFG--\tOMFG--\tU\t198412\tPPI industry group data for Total manufacturing industries, not seasonally adjusted\t\t1984\tM12\t2024\tM05\n",
    "\n",
    "PCUOMIN--OMIN--               \tOMIN--\tOMIN--\tU\t198412\tPPI industry group data for Total mining industries, not seasonally adjusted\t\t1984\tM12\t2024\tM05"
   ]
  },
  {
   "cell_type": "code",
   "execution_count": 32,
   "id": "20f869eb-3799-4dec-9bfa-979df511fd8d",
   "metadata": {},
   "outputs": [
    {
     "name": "stdout",
     "output_type": "stream",
     "text": [
      "Index(['series_id', 'year', 'period', 'value', 'footnote_codes'], dtype='object')\n",
      "PCUOMIN--OMIN-- <class 'str'>\n"
     ]
    },
    {
     "data": {
      "text/html": [
       "<div>\n",
       "<style scoped>\n",
       "    .dataframe tbody tr th:only-of-type {\n",
       "        vertical-align: middle;\n",
       "    }\n",
       "\n",
       "    .dataframe tbody tr th {\n",
       "        vertical-align: top;\n",
       "    }\n",
       "\n",
       "    .dataframe thead th {\n",
       "        text-align: right;\n",
       "    }\n",
       "</style>\n",
       "<table border=\"1\" class=\"dataframe\">\n",
       "  <thead>\n",
       "    <tr style=\"text-align: right;\">\n",
       "      <th></th>\n",
       "      <th>series_id</th>\n",
       "      <th>year</th>\n",
       "      <th>period</th>\n",
       "      <th>value</th>\n",
       "      <th>footnote_codes</th>\n",
       "    </tr>\n",
       "  </thead>\n",
       "  <tbody>\n",
       "    <tr>\n",
       "      <th>3495</th>\n",
       "      <td>PCUOMIN--OMIN--</td>\n",
       "      <td>2024</td>\n",
       "      <td>M04</td>\n",
       "      <td>224.344</td>\n",
       "      <td>P</td>\n",
       "    </tr>\n",
       "    <tr>\n",
       "      <th>3496</th>\n",
       "      <td>PCUOMIN--OMIN--</td>\n",
       "      <td>2024</td>\n",
       "      <td>M05</td>\n",
       "      <td>216.059</td>\n",
       "      <td>P</td>\n",
       "    </tr>\n",
       "  </tbody>\n",
       "</table>\n",
       "</div>"
      ],
      "text/plain": [
       "            series_id  year period    value footnote_codes\n",
       "3495  PCUOMIN--OMIN--  2024    M04  224.344              P\n",
       "3496  PCUOMIN--OMIN--  2024    M05  216.059              P"
      ]
     },
     "execution_count": 32,
     "metadata": {},
     "output_type": "execute_result"
    }
   ],
   "source": [
    "us_ppi = pd.read_table(\"US-PPI/pc.data.01.aggregates\",sep=\"\\s+\",engine='python')\n",
    "print(us_ppi.columns)\n",
    "print(us_ppi.iloc[3495,0],type(us_ppi.iloc[3495,0]))\n",
    "us_ppi.tail(2)"
   ]
  },
  {
   "cell_type": "code",
   "execution_count": 33,
   "id": "38cd4640-4538-4b2a-91c9-2c7d1767e4a5",
   "metadata": {},
   "outputs": [],
   "source": [
    "us_ppi_manufa = us_ppi[(us_ppi[\"period\"]==\"M13\") & (us_ppi[\"series_id\"]==\"PCUOMFG--OMFG--\")]\n",
    "us_ppi_mining = us_ppi[(us_ppi[\"period\"]==\"M13\") & (us_ppi[\"series_id\"]==\"PCUOMIN--OMIN--\")]"
   ]
  },
  {
   "cell_type": "code",
   "execution_count": 34,
   "id": "4f60e87d-868b-4b31-bd51-a74c8085373c",
   "metadata": {},
   "outputs": [],
   "source": [
    "us_ppi_manufa = us_ppi_manufa.set_index(\"year\").drop([\"series_id\",\"period\",\"footnote_codes\"],axis=1).rename(columns={\"value\":\"us_ppi_manufa\"})\n",
    "us_ppi_mining = us_ppi_mining.set_index(\"year\").drop([\"series_id\",\"period\",\"footnote_codes\"],axis=1).rename(columns={\"value\":\"us_ppi_mining\"})"
   ]
  },
  {
   "cell_type": "code",
   "execution_count": 35,
   "id": "89d0bb25-bf03-4427-b96c-fb24554b47eb",
   "metadata": {},
   "outputs": [],
   "source": [
    "us_ppi_manufa = (us_ppi_manufa / us_ppi_manufa.loc[2000]) * 100\n",
    "us_ppi_mining = (us_ppi_mining / us_ppi_mining.loc[2000]) * 100"
   ]
  },
  {
   "cell_type": "code",
   "execution_count": 36,
   "id": "63bdc8de-db23-4415-b9e3-2c487c76b884",
   "metadata": {},
   "outputs": [
    {
     "data": {
      "text/plain": [
       "<Axes: xlabel='year'>"
      ]
     },
     "execution_count": 36,
     "metadata": {},
     "output_type": "execute_result"
    },
    {
     "data": {
      "image/png": "[encoded data removed]",
      "text/plain": [
       "<Figure size 640x480 with 1 Axes>"
      ]
     },
     "metadata": {},
     "output_type": "display_data"
    }
   ],
   "source": [
    "pd.concat([us_ppi_manufa,us_ppi_mining]).plot()"
   ]
  },
  {
   "cell_type": "markdown",
   "id": "224be328-88f1-4166-98e1-f1772de35344",
   "metadata": {},
   "source": [
    "### Unit Labor Costs\n",
    "\n",
    "for unit labor costs the following note is an example: \n",
    "\n",
    "PRS 3100 6 11 1 = PRs -3100 - 06 - 11 - 1\n",
    "\n",
    "Series - Sector -Class Code - Mesaure Code - Time \n",
    "\n",
    "Selection for \"Sector\": \n",
    " - 3000\tManufacturing\t0\tT\t4\n",
    " - 3100\tManufacturing, Durable Goods\t1\tT\t5\n",
    " - 3200\tManufacturing, Nondurable Goods\t1\tT\t6\n",
    " - 8400\tBusiness\t0\tT\t2\n",
    " - 8500\tNonfarm Business\t0\tT\t1\n",
    " - 8800\tNonfinancial Corporations\t0\tT\t3\n",
    "\n",
    "Selection for \"Time\"\n",
    " - 1\t% Change same quarter 1 year ago\t0\tT\t1\n",
    " - 2\t% Change from previous quarter\t0\tT\t2\n",
    " - 3\tIndex (2017=100)\t0\tT\t3\n",
    "\n",
    "\n",
    "Therefore: \n",
    " - Sector: 8800\n",
    " - ClassCode: 3\n",
    " - Measure Code: 11\n",
    " - Time: 3 (index)\n",
    "\n",
    "Therefore: PRS+8800 3 11 3\n",
    "\n",
    "Sidenote:Q05\tAN AV\tAnnual Average"
   ]
  },
  {
   "cell_type": "code",
   "execution_count": 37,
   "id": "d1878f6a-78e3-47aa-a8a1-602ab7c3c7bb",
   "metadata": {},
   "outputs": [
    {
     "data": {
      "text/html": [
       "<div>\n",
       "<style scoped>\n",
       "    .dataframe tbody tr th:only-of-type {\n",
       "        vertical-align: middle;\n",
       "    }\n",
       "\n",
       "    .dataframe tbody tr th {\n",
       "        vertical-align: top;\n",
       "    }\n",
       "\n",
       "    .dataframe thead th {\n",
       "        text-align: right;\n",
       "    }\n",
       "</style>\n",
       "<table border=\"1\" class=\"dataframe\">\n",
       "  <thead>\n",
       "    <tr style=\"text-align: right;\">\n",
       "      <th></th>\n",
       "      <th>series_id</th>\n",
       "      <th>year</th>\n",
       "      <th>period</th>\n",
       "      <th>value</th>\n",
       "      <th>footnote_codes</th>\n",
       "    </tr>\n",
       "  </thead>\n",
       "  <tbody>\n",
       "    <tr>\n",
       "      <th>0</th>\n",
       "      <td>PRS30006011</td>\n",
       "      <td>1988</td>\n",
       "      <td>Q01</td>\n",
       "      <td>1.9</td>\n",
       "      <td>None</td>\n",
       "    </tr>\n",
       "    <tr>\n",
       "      <th>1</th>\n",
       "      <td>PRS30006011</td>\n",
       "      <td>1988</td>\n",
       "      <td>Q02</td>\n",
       "      <td>2.2</td>\n",
       "      <td>None</td>\n",
       "    </tr>\n",
       "    <tr>\n",
       "      <th>2</th>\n",
       "      <td>PRS30006011</td>\n",
       "      <td>1988</td>\n",
       "      <td>Q03</td>\n",
       "      <td>1.9</td>\n",
       "      <td>None</td>\n",
       "    </tr>\n",
       "    <tr>\n",
       "      <th>3</th>\n",
       "      <td>PRS30006011</td>\n",
       "      <td>1988</td>\n",
       "      <td>Q04</td>\n",
       "      <td>1.1</td>\n",
       "      <td>None</td>\n",
       "    </tr>\n",
       "    <tr>\n",
       "      <th>4</th>\n",
       "      <td>PRS30006011</td>\n",
       "      <td>1988</td>\n",
       "      <td>Q05</td>\n",
       "      <td>1.8</td>\n",
       "      <td>None</td>\n",
       "    </tr>\n",
       "  </tbody>\n",
       "</table>\n",
       "</div>"
      ],
      "text/plain": [
       "     series_id  year period  value footnote_codes\n",
       "0  PRS30006011  1988    Q01    1.9           None\n",
       "1  PRS30006011  1988    Q02    2.2           None\n",
       "2  PRS30006011  1988    Q03    1.9           None\n",
       "3  PRS30006011  1988    Q04    1.1           None\n",
       "4  PRS30006011  1988    Q05    1.8           None"
      ]
     },
     "execution_count": 37,
     "metadata": {},
     "output_type": "execute_result"
    }
   ],
   "source": [
    "us_ulc = pd.read_table(\"US-ULC/pr.data.1.AllData\",sep=\"\\s+\",engine='python')\n",
    "us_ulc.head(5)"
   ]
  },
  {
   "cell_type": "code",
   "execution_count": 38,
   "id": "8f5222b0-e491-4c4a-989b-28b867ca33ec",
   "metadata": {},
   "outputs": [
    {
     "name": "stdout",
     "output_type": "stream",
     "text": [
      "77\n",
      "      us_ulc_ss\n",
      "year           \n",
      "1947     19.089\n",
      "1948     19.672\n",
      "      us_ulc_ss\n",
      "year           \n",
      "2022    115.523\n",
      "2023    119.319\n"
     ]
    }
   ],
   "source": [
    "us_ulc_ss = us_ulc[ (us_ulc[\"series_id\"] == \"PRS88003113\" ) & (us_ulc[\"period\"] == \"Q05\") ]\n",
    "us_ulc_ss = us_ulc_ss.set_index(\"year\").drop([\"series_id\",\"period\",\"footnote_codes\"],axis=1).rename(columns={\"value\":\"us_ulc_ss\"})\n",
    "print(len(us_ulc_ss))\n",
    "print(us_ulc_ss.head(2))\n",
    "print(us_ulc_ss.tail(2))"
   ]
  },
  {
   "cell_type": "code",
   "execution_count": 40,
   "id": "38644e86-2185-4b2a-9865-96a07adeb48d",
   "metadata": {},
   "outputs": [
    {
     "data": {
      "text/plain": [
       "<Axes: xlabel='year'>"
      ]
     },
     "execution_count": 40,
     "metadata": {},
     "output_type": "execute_result"
    },
    {
     "data": {
      "image/png": "[encoded data removed]",
      "text/plain": [
       "<Figure size 640x480 with 1 Axes>"
      ]
     },
     "metadata": {},
     "output_type": "display_data"
    }
   ],
   "source": [
    "us_ulc_ss = (us_ulc_ss / us_ulc_ss.loc[2000]) * 100\n",
    "us_ulc_ss.plot()"
   ]
  },
  {
   "cell_type": "markdown",
   "id": "423bc2dc-ff21-4bca-94a1-356e37876785",
   "metadata": {},
   "source": [
    "# CREATE FINAL GRAPH \n",
    "\n",
    "jpn_ulc/jpn_cpi\n",
    "\n",
    "over\n",
    "\n",
    "us_ulc/us_cpi\n",
    "\n",
    "times \n",
    "\n",
    "jpn_cpi / jpn_ppi\n",
    "\n",
    "over \n",
    "\n",
    "us_cpi / us_ppi"
   ]
  },
  {
   "cell_type": "code",
   "execution_count": 81,
   "id": "e4c373c4-fcad-4131-8ebf-54ff5e38c754",
   "metadata": {},
   "outputs": [
    {
     "data": {
      "text/plain": [
       "year\n",
       "1986     73.707865\n",
       "1987     75.580524\n",
       "1988     78.202247\n",
       "1989     82.097378\n",
       "1990     85.767790\n",
       "1991     86.816479\n",
       "1992     87.940075\n",
       "1993     89.213483\n",
       "1994     90.411985\n",
       "1995     93.033708\n",
       "1996     95.205993\n",
       "1997     95.505618\n",
       "1998     94.531835\n",
       "1999     96.104869\n",
       "2000    100.000000\n",
       "2001    100.823970\n",
       "2002    100.149813\n",
       "2003    102.696629\n",
       "2004    107.041199\n",
       "2005    112.958801\n",
       "2006    117.528090\n",
       "2007    122.022472\n",
       "2008    131.685393\n",
       "2009    125.168539\n",
       "2010    131.385768\n",
       "2011    141.647940\n",
       "2012    144.644195\n",
       "2013    145.243446\n",
       "2014    146.441948\n",
       "2015    138.951311\n",
       "2016    136.254682\n",
       "2017    141.048689\n",
       "2018    147.415730\n",
       "2019    147.415730\n",
       "2020    144.344569\n",
       "2021    161.937079\n",
       "2022    186.921348\n",
       "Name: us_ppi_manufa, dtype: float64"
      ]
     },
     "execution_count": 81,
     "metadata": {},
     "output_type": "execute_result"
    }
   ],
   "source": [
    "\n"
   ]
  },
  {
   "cell_type": "code",
   "execution_count": 88,
   "id": "a7536c59-2430-41a1-882f-7d2ee48f82cc",
   "metadata": {},
   "outputs": [
    {
     "data": {
      "text/plain": [
       "<Axes: xlabel='year'>"
      ]
     },
     "execution_count": 88,
     "metadata": {},
     "output_type": "execute_result"
    },
    {
     "data": {
      "image/png": "[encoded data removed]",
      "text/plain": [
       "<Figure size 640x480 with 1 Axes>"
      ]
     },
     "metadata": {},
     "output_type": "display_data"
    }
   ],
   "source": [
    "cpi_wb_base_2000.index = cpi_wb_base_2000.index.astype(int)\n",
    "x = (\n",
    "(jpn_ulc_yearly.loc[1980:2022,\"jpn_ulc\"] / cpi_wb_base_2000.loc[1980:2022,\"jpn_cpi_wb\"]) / \n",
    " (us_ulc_ss.loc[1980:2022,\"us_ulc_ss\"] / us_cpi_ss_yearly.loc[1980:2022,\"value\"])\n",
    ") * (\n",
    "(cpi_wb_base_2000.loc[1980:2022,\"jpn_cpi_wb\"] / jpn_ppi_yearly.loc[1980:2022,\"jpn_ppi\"]) / \n",
    "(us_cpi_ss_yearly.loc[1980:2022,\"value\"] / us_ppi_manufa.loc[1980:2022,\"us_ppi_manufa\"])\n",
    ")\n",
    "(1/x).plot()\n"
   ]
  },
  {
   "cell_type": "code",
   "execution_count": 114,
   "id": "672530a0-1949-48c2-876f-6e730e1b584c",
   "metadata": {},
   "outputs": [
    {
     "data": {
      "text/plain": [
       "43"
      ]
     },
     "execution_count": 114,
     "metadata": {},
     "output_type": "execute_result"
    }
   ],
   "source": [
    "len(x)"
   ]
  },
  {
   "cell_type": "code",
   "execution_count": 119,
   "id": "e925cb5e-6363-4a81-9d14-dadeb3aa72b8",
   "metadata": {},
   "outputs": [
    {
     "data": {
      "text/plain": [
       "<Axes: xlabel='year'>"
      ]
     },
     "execution_count": 119,
     "metadata": {},
     "output_type": "execute_result"
    },
    {
     "data": {
      "image/png": "[encoded data removed]",
      "text/plain": [
       "<Figure size 640x480 with 1 Axes>"
      ]
     },
     "metadata": {},
     "output_type": "display_data"
    }
   ],
   "source": [
    "fig = pd.concat( [((1/x)*100),usd_yen_yearly.loc[1980:2022]] ,axis=1)\n",
    "fig.plot()"
   ]
  },
  {
   "cell_type": "code",
   "execution_count": 93,
   "id": "22f8f91d-edb4-48e0-b793-1563e96950f8",
   "metadata": {},
   "outputs": [
    {
     "data": {
      "text/plain": [
       "<Axes: >"
      ]
     },
     "execution_count": 93,
     "metadata": {},
     "output_type": "execute_result"
    },
    {
     "data": {
      "image/png": "[encoded data removed]",
      "text/plain": [
       "<Figure size 640x480 with 1 Axes>"
      ]
     },
     "metadata": {},
     "output_type": "display_data"
    }
   ],
   "source": [
    "usd_yen[\" value\"].plot()"
   ]
  },
  {
   "cell_type": "code",
   "execution_count": 92,
   "id": "1be66239-b0e2-434a-adc9-559c45150359",
   "metadata": {},
   "outputs": [
    {
     "data": {
      "text/plain": [
       "Index(['date', ' value', 'month', 'year'], dtype='object')"
      ]
     },
     "execution_count": 92,
     "metadata": {},
     "output_type": "execute_result"
    }
   ],
   "source": [
    "usd_yen.columns"
   ]
  },
  {
   "cell_type": "code",
   "execution_count": null,
   "id": "921aa66c-9b4f-40af-bca7-55991c3ad629",
   "metadata": {},
   "outputs": [],
   "source": [
    "usd_yen_yearly = usd_yen.groupby(\"year\").mean(\" value\").rename(columns={\" value\":\"usd_yen\"}).drop(\"month\",axis=1)"
   ]
  },
  {
   "cell_type": "code",
   "execution_count": 120,
   "id": "dcc4eea8-ec9f-4443-a3a3-c453d90be429",
   "metadata": {},
   "outputs": [],
   "source": [
    "usd_yen_yearly = (usd_yen_yearly / usd_yen_yearly.loc[2000])*100"
   ]
  }
 ],
 "metadata": {
  "kernelspec": {
   "display_name": "Python 3 (ipykernel)",
   "language": "python",
   "name": "python3"
  },
  "language_info": {
   "codemirror_mode": {
    "name": "ipython",
    "version": 3
   },
   "file_extension": ".py",
   "mimetype": "text/x-python",
   "name": "python",
   "nbconvert_exporter": "python",
   "pygments_lexer": "ipython3",
   "version": "3.10.13"
  }
 },
 "nbformat": 4,
 "nbformat_minor": 5
}
