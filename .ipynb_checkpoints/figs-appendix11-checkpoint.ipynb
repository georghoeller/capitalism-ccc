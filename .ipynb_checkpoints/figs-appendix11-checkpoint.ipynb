{
 "cells": [
  {
   "cell_type": "markdown",
   "id": "955c9aa5-174e-43c4-aa7c-20d4e5701b66",
   "metadata": {},
   "source": [
    "# Shaikh's real effective exchange rate\n",
    "### Calculations on the real effectice exchange rate between japan and the US \n",
    "\n",
    "The goal is to reproduce figure 11.4 and 11.5 from the book \"Capitalism - Competition, Conflict, Crises\" \n",
    "\n",
    "The real effective exchange rate is calculated as the vertically integrated unit labor costs (vulc) times a factor of the share of exports (tau).\n",
    "\n",
    "Theta can have the form of the share of exports over GDP (exp/gdp) or of consumer price index over producer price index (CPI/PPI)\n",
    "\n",
    "Therefore: \n",
    "\n",
    "$$ \\frac{vulcr}{vulcr*} \\cdot \\frac{\\tau}{\\tau*}$$\n",
    "\n",
    "or equivalent\n",
    "\n",
    "$$ \\frac{(\\frac{ULC}{CPI})}{(\\frac{ULC*}{CPI*})} \\cdot \\frac{(\\frac{exp}{gdp})}{(\\frac{exp*}{gdp*})}$$"
   ]
  },
  {
   "cell_type": "markdown",
   "id": "a05ce203-b5b6-4593-8980-cc0686ed6497",
   "metadata": {},
   "source": [
    "# import table - make figs"
   ]
  }
 ],
 "metadata": {
  "kernelspec": {
   "display_name": "Python 3 (ipykernel)",
   "language": "python",
   "name": "python3"
  },
  "language_info": {
   "codemirror_mode": {
    "name": "ipython",
    "version": 3
   },
   "file_extension": ".py",
   "mimetype": "text/x-python",
   "name": "python",
   "nbconvert_exporter": "python",
   "pygments_lexer": "ipython3",
   "version": "3.10.13"
  }
 },
 "nbformat": 4,
 "nbformat_minor": 5
}
