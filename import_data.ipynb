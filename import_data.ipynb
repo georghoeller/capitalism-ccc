{
 "cells": [
  {
   "cell_type": "markdown",
   "id": "c19cd9ea-b0fa-4c1b-9a44-4721f1766e4d",
   "metadata": {},
   "source": [
    "# Shaikh's real effective exchange rate\n",
    "### Calculations on the real effectice exchange rate between japan and the US \n",
    "\n",
    "The goal is to reproduce figure 11.4 and 11.5 from the book \"Capitalism - Competition, Conflict, Crises\" \n",
    "\n",
    "The real effective exchange rate is calculated as the vertically integrated unit labor costs (vulc) times a factor of the share of exports (tau).\n",
    "\n",
    "Theta can have the form of the share of exports over GDP (exp/gdp) or of consumer price index over producer price index (CPI/PPI)\n",
    "\n",
    "Therefore: \n",
    "\n",
    "$ \\frac{vulcr}{vulcr*} \\cdot \\frac{\\tau}{\\tau*}$\n",
    "\n",
    "or equivalent\n",
    "\n",
    "$ \\frac{(\\frac{ULC}{CPI})}{(\\frac{ULC*}{CPI*})} \\cdot \\frac{(\\frac{exp}{gdp})}{(\\frac{exp*}{gdp*})}$"
   ]
  },
  {
   "cell_type": "markdown",
   "id": "c153a879-3a55-4216-963d-488affd7eaf0",
   "metadata": {},
   "source": [
    "# import data"
   ]
  },
  {
   "cell_type": "markdown",
   "id": "e7adf7e2-d415-4dc3-a23e-acfce89c527d",
   "metadata": {},
   "source": [
    "### Japan"
   ]
  },
  {
   "cell_type": "code",
   "execution_count": 1,
   "id": "bf3d73f6-fbd8-4210-8636-fb7c04dd83f9",
   "metadata": {},
   "outputs": [],
   "source": [
    "import pandas as pd"
   ]
  },
  {
   "cell_type": "code",
   "execution_count": 2,
   "id": "de394cc6-5694-4a80-8dab-6b610d4a7ff1",
   "metadata": {},
   "outputs": [
    {
     "data": {
      "text/html": [
       "<div>\n",
       "<style scoped>\n",
       "    .dataframe tbody tr th:only-of-type {\n",
       "        vertical-align: middle;\n",
       "    }\n",
       "\n",
       "    .dataframe tbody tr th {\n",
       "        vertical-align: top;\n",
       "    }\n",
       "\n",
       "    .dataframe thead th {\n",
       "        text-align: right;\n",
       "    }\n",
       "</style>\n",
       "<table border=\"1\" class=\"dataframe\">\n",
       "  <thead>\n",
       "    <tr style=\"text-align: right;\">\n",
       "      <th></th>\n",
       "      <th>Country Name</th>\n",
       "      <th>Country Code</th>\n",
       "      <th>Indicator Name</th>\n",
       "      <th>Indicator Code</th>\n",
       "      <th>1960</th>\n",
       "      <th>1961</th>\n",
       "      <th>1962</th>\n",
       "      <th>1963</th>\n",
       "      <th>1964</th>\n",
       "      <th>1965</th>\n",
       "      <th>...</th>\n",
       "      <th>2015</th>\n",
       "      <th>2016</th>\n",
       "      <th>2017</th>\n",
       "      <th>2018</th>\n",
       "      <th>2019</th>\n",
       "      <th>2020</th>\n",
       "      <th>2021</th>\n",
       "      <th>2022</th>\n",
       "      <th>2023</th>\n",
       "      <th>Unnamed: 68</th>\n",
       "    </tr>\n",
       "  </thead>\n",
       "  <tbody>\n",
       "    <tr>\n",
       "      <th>0</th>\n",
       "      <td>Aruba</td>\n",
       "      <td>ABW</td>\n",
       "      <td>Exports of goods and services (% of GDP)</td>\n",
       "      <td>NE.EXP.GNFS.ZS</td>\n",
       "      <td>NaN</td>\n",
       "      <td>NaN</td>\n",
       "      <td>NaN</td>\n",
       "      <td>NaN</td>\n",
       "      <td>NaN</td>\n",
       "      <td>NaN</td>\n",
       "      <td>...</td>\n",
       "      <td>72.852913</td>\n",
       "      <td>71.820435</td>\n",
       "      <td>72.548690</td>\n",
       "      <td>72.252774</td>\n",
       "      <td>73.234592</td>\n",
       "      <td>55.32681</td>\n",
       "      <td>69.069709</td>\n",
       "      <td>83.124605</td>\n",
       "      <td>NaN</td>\n",
       "      <td>NaN</td>\n",
       "    </tr>\n",
       "    <tr>\n",
       "      <th>1</th>\n",
       "      <td>Africa Eastern and Southern</td>\n",
       "      <td>AFE</td>\n",
       "      <td>Exports of goods and services (% of GDP)</td>\n",
       "      <td>NE.EXP.GNFS.ZS</td>\n",
       "      <td>NaN</td>\n",
       "      <td>NaN</td>\n",
       "      <td>NaN</td>\n",
       "      <td>NaN</td>\n",
       "      <td>NaN</td>\n",
       "      <td>NaN</td>\n",
       "      <td>...</td>\n",
       "      <td>24.046024</td>\n",
       "      <td>23.249929</td>\n",
       "      <td>23.824897</td>\n",
       "      <td>25.315921</td>\n",
       "      <td>23.903124</td>\n",
       "      <td>22.03616</td>\n",
       "      <td>25.922406</td>\n",
       "      <td>27.595354</td>\n",
       "      <td>24.50316</td>\n",
       "      <td>NaN</td>\n",
       "    </tr>\n",
       "  </tbody>\n",
       "</table>\n",
       "<p>2 rows × 69 columns</p>\n",
       "</div>"
      ],
      "text/plain": [
       "                  Country Name Country Code  \\\n",
       "0                        Aruba          ABW   \n",
       "1  Africa Eastern and Southern          AFE   \n",
       "\n",
       "                             Indicator Name  Indicator Code  1960  1961  1962  \\\n",
       "0  Exports of goods and services (% of GDP)  NE.EXP.GNFS.ZS   NaN   NaN   NaN   \n",
       "1  Exports of goods and services (% of GDP)  NE.EXP.GNFS.ZS   NaN   NaN   NaN   \n",
       "\n",
       "   1963  1964  1965  ...       2015       2016       2017       2018  \\\n",
       "0   NaN   NaN   NaN  ...  72.852913  71.820435  72.548690  72.252774   \n",
       "1   NaN   NaN   NaN  ...  24.046024  23.249929  23.824897  25.315921   \n",
       "\n",
       "        2019      2020       2021       2022      2023  Unnamed: 68  \n",
       "0  73.234592  55.32681  69.069709  83.124605       NaN          NaN  \n",
       "1  23.903124  22.03616  25.922406  27.595354  24.50316          NaN  \n",
       "\n",
       "[2 rows x 69 columns]"
      ]
     },
     "execution_count": 2,
     "metadata": {},
     "output_type": "execute_result"
    }
   ],
   "source": [
    "exp_gdp = pd.read_csv(\"EXP-GDP/API_NE.EXP.GNFS.ZS_DS2_en_csv_v2_431603.csv\",skiprows=3,delimiter=\",\")\n",
    "exp_gdp.head(2)"
   ]
  },
  {
   "cell_type": "code",
   "execution_count": 3,
   "id": "bd1c5a04-e61d-4540-99ec-036b9b5ace63",
   "metadata": {},
   "outputs": [
    {
     "name": "stdout",
     "output_type": "stream",
     "text": [
      "Index(['Country Name', 'Country Code', 'Indicator Name', 'Indicator Code',\n",
      "       '1960', '1961', '1962', '1963', '1964', '1965', '1966', '1967', '1968',\n",
      "       '1969', '1970', '1971', '1972', '1973', '1974', '1975', '1976', '1977',\n",
      "       '1978', '1979', '1980', '1981', '1982', '1983', '1984', '1985', '1986',\n",
      "       '1987', '1988', '1989', '1990', '1991', '1992', '1993', '1994', '1995',\n",
      "       '1996', '1997', '1998', '1999', '2000', '2001', '2002', '2003', '2004',\n",
      "       '2005', '2006', '2007', '2008', '2009', '2010', '2011', '2012', '2013',\n",
      "       '2014', '2015', '2016', '2017', '2018', '2019', '2020', '2021', '2022',\n",
      "       '2023', 'Unnamed: 68'],\n",
      "      dtype='object')\n",
      "64\n",
      "      jpn_exp_gdp  usa_exp_gdp\n",
      "1960          NaN          NaN\n",
      "1961          NaN          NaN\n",
      "      jpn_exp_gdp  usa_exp_gdp\n",
      "2022    21.541723    11.633909\n",
      "2023          NaN          NaN\n"
     ]
    }
   ],
   "source": [
    "# % share of Exports over GDP on a YEARLY basis // starting from 1960 to 2023\n",
    "print(exp_gdp[exp_gdp[\"Country Code\"] == \"JPN\"].columns)\n",
    "\n",
    "exp_gdp_ss = exp_gdp[exp_gdp[\"Country Code\"].isin([\"JPN\",\"USA\"]) ].drop(\n",
    "    ['Country Name', 'Country Code', 'Indicator Name', 'Indicator Code','Unnamed: 68'],axis=1).T.rename(\n",
    "    columns={119:'jpn_exp_gdp',251:'usa_exp_gdp'})\n",
    "print(len(exp_gdp_ss))\n",
    "print(exp_gdp_ss.head(2))\n",
    "print(exp_gdp_ss.tail(2))"
   ]
  },
  {
   "cell_type": "markdown",
   "id": "c797ffdb-80d3-4941-ad56-f7895e129f0a",
   "metadata": {},
   "source": [
    "### USD YEN FX Rate"
   ]
  },
  {
   "cell_type": "code",
   "execution_count": 4,
   "id": "ccda0b62-6311-4278-a0f0-fe68b8f588d6",
   "metadata": {},
   "outputs": [
    {
     "name": "stdout",
     "output_type": "stream",
     "text": [
      "13784\n",
      "         date   value\n",
      "0  1971-01-04  357.73\n",
      "1  1971-01-05  357.81\n"
     ]
    }
   ],
   "source": [
    "# DAILY basis\n",
    "usd_yen = pd.read_csv(\"FX-Rate-USD-YEN/dollar-yen-exchange-rate-historical-chart.csv\",skiprows=15)\n",
    "print(len(usd_yen))\n",
    "print(usd_yen.head(2))"
   ]
  },
  {
   "cell_type": "code",
   "execution_count": 5,
   "id": "730f629c-b1ac-4c4e-8649-d82868ce7dd4",
   "metadata": {},
   "outputs": [
    {
     "data": {
      "text/html": [
       "<div>\n",
       "<style scoped>\n",
       "    .dataframe tbody tr th:only-of-type {\n",
       "        vertical-align: middle;\n",
       "    }\n",
       "\n",
       "    .dataframe tbody tr th {\n",
       "        vertical-align: top;\n",
       "    }\n",
       "\n",
       "    .dataframe thead th {\n",
       "        text-align: right;\n",
       "    }\n",
       "</style>\n",
       "<table border=\"1\" class=\"dataframe\">\n",
       "  <thead>\n",
       "    <tr style=\"text-align: right;\">\n",
       "      <th></th>\n",
       "      <th>date</th>\n",
       "      <th>value</th>\n",
       "      <th>month</th>\n",
       "      <th>year</th>\n",
       "    </tr>\n",
       "  </thead>\n",
       "  <tbody>\n",
       "    <tr>\n",
       "      <th>0</th>\n",
       "      <td>1971-01-04</td>\n",
       "      <td>357.73</td>\n",
       "      <td>1</td>\n",
       "      <td>1971</td>\n",
       "    </tr>\n",
       "    <tr>\n",
       "      <th>1</th>\n",
       "      <td>1971-01-05</td>\n",
       "      <td>357.81</td>\n",
       "      <td>1</td>\n",
       "      <td>1971</td>\n",
       "    </tr>\n",
       "  </tbody>\n",
       "</table>\n",
       "</div>"
      ],
      "text/plain": [
       "         date   value  month  year\n",
       "0  1971-01-04  357.73      1  1971\n",
       "1  1971-01-05  357.81      1  1971"
      ]
     },
     "execution_count": 5,
     "metadata": {},
     "output_type": "execute_result"
    }
   ],
   "source": [
    "usd_yen[\"month\"] = pd.to_datetime(usd_yen.date).dt.month\n",
    "usd_yen[\"year\"] = pd.to_datetime(usd_yen.date).dt.year\n",
    "usd_yen.head(2)"
   ]
  },
  {
   "cell_type": "code",
   "execution_count": 6,
   "id": "9cfe349d-2453-472d-822a-6c66465a3ab7",
   "metadata": {},
   "outputs": [
    {
     "name": "stdout",
     "output_type": "stream",
     "text": [
      "54\n",
      "          value     month\n",
      "year                     \n",
      "1971  347.78569  6.456067\n",
      "1972  303.12498  6.438247\n",
      "           value     month\n",
      "year                      \n",
      "2023  140.734001  6.677019\n",
      "2024  150.839595  2.765432\n"
     ]
    }
   ],
   "source": [
    "# YEARLY: 1970 to 2023\n",
    "usd_yen_yearly = usd_yen.groupby(\"year\").mean(\"value\")\n",
    "print(len(usd_yen_yearly))\n",
    "print(usd_yen_yearly.head(2))\n",
    "print(usd_yen_yearly.tail(2))"
   ]
  },
  {
   "cell_type": "markdown",
   "id": "f65601cf-2c6f-43a0-ad11-88d3536396d9",
   "metadata": {},
   "source": [
    "### JPN CPI "
   ]
  },
  {
   "cell_type": "code",
   "execution_count": 54,
   "id": "d4d579ba-baa7-44bf-b6e0-689fba9728e2",
   "metadata": {},
   "outputs": [
    {
     "name": "stdout",
     "output_type": "stream",
     "text": [
      "64\n",
      "      jpn_cpi_wb  usa_cpi_wb\n",
      "1960   18.972569   13.563061\n",
      "1961   19.991104   13.708284\n",
      "      jpn_cpi_wb  usa_cpi_wb\n",
      "2022  107.839691  134.211206\n",
      "2023  111.364036  139.735794\n"
     ]
    }
   ],
   "source": [
    "# CPI from the world bank on a YEARLY basis // 1960 to 2022 // BASE = 2010\n",
    "\n",
    "#jpn_cpi = pd.read_csv(\"JPN-CPI/API_FP.CPI.TOTL_DS2_en_csv_v2_527528-PERC-CHANGE/API_FP.CPI.TOTL_DS2_en_csv_v2_527528.csv\",skiprows=3,delimiter=\",\")\n",
    "jpn_cpi = pd.read_csv(\"JPN-CPI/API_FP.CPI.TOTL_DS2_en_csv_v2_1584217.csv\",skiprows=3,delimiter=\",\")\n",
    "\n",
    "# _wb = WORLD BANK\n",
    "\n",
    "cpi_wb_ss = jpn_cpi[jpn_cpi[\"Country Code\"].isin([\"JPN\",\"USA\"]) ].drop(\n",
    "    ['Country Name', 'Country Code', 'Indicator Name', 'Indicator Code','Unnamed: 68'],axis=1).T.rename(\n",
    "    columns={119:'jpn_cpi_wb',251:'usa_cpi_wb'})\n",
    "\n",
    "print(len(cpi_wb_ss))\n",
    "print(cpi_wb_ss.head(2))\n",
    "print(cpi_wb_ss.tail(2))"
   ]
  },
  {
   "cell_type": "code",
   "execution_count": 55,
   "id": "572422f0-5caa-4568-b345-d859d90773a2",
   "metadata": {},
   "outputs": [
    {
     "data": {
      "text/html": [
       "<div>\n",
       "<style scoped>\n",
       "    .dataframe tbody tr th:only-of-type {\n",
       "        vertical-align: middle;\n",
       "    }\n",
       "\n",
       "    .dataframe tbody tr th {\n",
       "        vertical-align: top;\n",
       "    }\n",
       "\n",
       "    .dataframe thead th {\n",
       "        text-align: right;\n",
       "    }\n",
       "</style>\n",
       "<table border=\"1\" class=\"dataframe\">\n",
       "  <thead>\n",
       "    <tr style=\"text-align: right;\">\n",
       "      <th></th>\n",
       "      <th>jpn_cpi_wb</th>\n",
       "      <th>usa_cpi_wb</th>\n",
       "    </tr>\n",
       "  </thead>\n",
       "  <tbody>\n",
       "    <tr>\n",
       "      <th>2000</th>\n",
       "      <td>102.667615</td>\n",
       "      <td>78.970721</td>\n",
       "    </tr>\n",
       "  </tbody>\n",
       "</table>\n",
       "</div>"
      ],
      "text/plain": [
       "      jpn_cpi_wb  usa_cpi_wb\n",
       "2000  102.667615   78.970721"
      ]
     },
     "execution_count": 55,
     "metadata": {},
     "output_type": "execute_result"
    }
   ],
   "source": [
    "cpi_wb_ss[cpi_wb_ss.index == \"2000\"]"
   ]
  },
  {
   "cell_type": "code",
   "execution_count": 56,
   "id": "d0216145-48a7-41c1-9775-5f47aceca2af",
   "metadata": {},
   "outputs": [
    {
     "data": {
      "text/plain": [
       "array([102.66761508,  78.97072076])"
      ]
     },
     "execution_count": 56,
     "metadata": {},
     "output_type": "execute_result"
    }
   ],
   "source": [
    "cpi_wb_ss[cpi_wb_ss.index == \"2000\"].values[0]"
   ]
  },
  {
   "cell_type": "code",
   "execution_count": 57,
   "id": "e2204f75-b147-4ab4-9e4b-1a5e968f7347",
   "metadata": {},
   "outputs": [
    {
     "data": {
      "text/html": [
       "<div>\n",
       "<style scoped>\n",
       "    .dataframe tbody tr th:only-of-type {\n",
       "        vertical-align: middle;\n",
       "    }\n",
       "\n",
       "    .dataframe tbody tr th {\n",
       "        vertical-align: top;\n",
       "    }\n",
       "\n",
       "    .dataframe thead th {\n",
       "        text-align: right;\n",
       "    }\n",
       "</style>\n",
       "<table border=\"1\" class=\"dataframe\">\n",
       "  <thead>\n",
       "    <tr style=\"text-align: right;\">\n",
       "      <th></th>\n",
       "      <th>jpn_cpi_wb</th>\n",
       "      <th>usa_cpi_wb</th>\n",
       "    </tr>\n",
       "  </thead>\n",
       "  <tbody>\n",
       "    <tr>\n",
       "      <th>2000</th>\n",
       "      <td>102.667615</td>\n",
       "      <td>78.970721</td>\n",
       "    </tr>\n",
       "    <tr>\n",
       "      <th>2001</th>\n",
       "      <td>101.907818</td>\n",
       "      <td>81.202568</td>\n",
       "    </tr>\n",
       "    <tr>\n",
       "      <th>2002</th>\n",
       "      <td>100.966705</td>\n",
       "      <td>82.490467</td>\n",
       "    </tr>\n",
       "    <tr>\n",
       "      <th>2003</th>\n",
       "      <td>100.707683</td>\n",
       "      <td>84.363079</td>\n",
       "    </tr>\n",
       "    <tr>\n",
       "      <th>2004</th>\n",
       "      <td>100.699049</td>\n",
       "      <td>86.621678</td>\n",
       "    </tr>\n",
       "    <tr>\n",
       "      <th>2005</th>\n",
       "      <td>100.414125</td>\n",
       "      <td>89.560532</td>\n",
       "    </tr>\n",
       "    <tr>\n",
       "      <th>2006</th>\n",
       "      <td>100.664513</td>\n",
       "      <td>92.449705</td>\n",
       "    </tr>\n",
       "    <tr>\n",
       "      <th>2007</th>\n",
       "      <td>100.724951</td>\n",
       "      <td>95.086992</td>\n",
       "    </tr>\n",
       "    <tr>\n",
       "      <th>2008</th>\n",
       "      <td>102.115035</td>\n",
       "      <td>98.737477</td>\n",
       "    </tr>\n",
       "    <tr>\n",
       "      <th>2009</th>\n",
       "      <td>100.733585</td>\n",
       "      <td>98.386420</td>\n",
       "    </tr>\n",
       "    <tr>\n",
       "      <th>2010</th>\n",
       "      <td>100.000000</td>\n",
       "      <td>100.000000</td>\n",
       "    </tr>\n",
       "    <tr>\n",
       "      <th>2011</th>\n",
       "      <td>99.727544</td>\n",
       "      <td>103.156842</td>\n",
       "    </tr>\n",
       "    <tr>\n",
       "      <th>2012</th>\n",
       "      <td>99.683600</td>\n",
       "      <td>105.291505</td>\n",
       "    </tr>\n",
       "    <tr>\n",
       "      <th>2013</th>\n",
       "      <td>100.017578</td>\n",
       "      <td>106.833849</td>\n",
       "    </tr>\n",
       "    <tr>\n",
       "      <th>2014</th>\n",
       "      <td>102.777290</td>\n",
       "      <td>108.566932</td>\n",
       "    </tr>\n",
       "    <tr>\n",
       "      <th>2015</th>\n",
       "      <td>103.594656</td>\n",
       "      <td>108.695722</td>\n",
       "    </tr>\n",
       "    <tr>\n",
       "      <th>2016</th>\n",
       "      <td>103.462823</td>\n",
       "      <td>110.067009</td>\n",
       "    </tr>\n",
       "    <tr>\n",
       "      <th>2017</th>\n",
       "      <td>103.963790</td>\n",
       "      <td>112.411557</td>\n",
       "    </tr>\n",
       "    <tr>\n",
       "      <th>2018</th>\n",
       "      <td>104.992090</td>\n",
       "      <td>115.157303</td>\n",
       "    </tr>\n",
       "    <tr>\n",
       "      <th>2019</th>\n",
       "      <td>105.484268</td>\n",
       "      <td>117.244195</td>\n",
       "    </tr>\n",
       "  </tbody>\n",
       "</table>\n",
       "</div>"
      ],
      "text/plain": [
       "      jpn_cpi_wb  usa_cpi_wb\n",
       "2000  102.667615   78.970721\n",
       "2001  101.907818   81.202568\n",
       "2002  100.966705   82.490467\n",
       "2003  100.707683   84.363079\n",
       "2004  100.699049   86.621678\n",
       "2005  100.414125   89.560532\n",
       "2006  100.664513   92.449705\n",
       "2007  100.724951   95.086992\n",
       "2008  102.115035   98.737477\n",
       "2009  100.733585   98.386420\n",
       "2010  100.000000  100.000000\n",
       "2011   99.727544  103.156842\n",
       "2012   99.683600  105.291505\n",
       "2013  100.017578  106.833849\n",
       "2014  102.777290  108.566932\n",
       "2015  103.594656  108.695722\n",
       "2016  103.462823  110.067009\n",
       "2017  103.963790  112.411557\n",
       "2018  104.992090  115.157303\n",
       "2019  105.484268  117.244195"
      ]
     },
     "execution_count": 57,
     "metadata": {},
     "output_type": "execute_result"
    }
   ],
   "source": [
    "#cpi_wb_ss = cpi_wb_ss#/cpi_wb_ss[cpi_wb_ss.index == \"2000\"]\n",
    "\n",
    "cpi_wb_ss_ = (cpi_wb_ss/cpi_wb_ss[cpi_wb_ss.index == \"2000\"].values[0])*100\n",
    "\n",
    "cpi_wb_ss_[40:60]"
   ]
  },
  {
   "cell_type": "code",
   "execution_count": 60,
   "id": "f472b671-9e83-4a01-8992-b162bbca5b5a",
   "metadata": {},
   "outputs": [
    {
     "data": {
      "text/plain": [
       "<Axes: >"
      ]
     },
     "execution_count": 60,
     "metadata": {},
     "output_type": "execute_result"
    },
    {
     "data": {
      "image/png": "[encoded data removed]",
      "text/plain": [
       "<Figure size 640x480 with 1 Axes>"
      ]
     },
     "metadata": {},
     "output_type": "display_data"
    },
    {
     "data": {
      "image/png": "[encoded data removed]",
      "text/plain": [
       "<Figure size 640x480 with 1 Axes>"
      ]
     },
     "metadata": {},
     "output_type": "display_data"
    }
   ],
   "source": [
    "cpi_wb_ss_.diff().plot()\n",
    "cpi_wb_ss.diff().plot()"
   ]
  },
  {
   "cell_type": "markdown",
   "id": "31616f85-727d-4333-bad0-d6c011f8c919",
   "metadata": {},
   "source": [
    "### JPN PPI "
   ]
  },
  {
   "cell_type": "code",
   "execution_count": 9,
   "id": "b8fb7990-a8f4-4f4e-a735-ba749cc09597",
   "metadata": {},
   "outputs": [
    {
     "name": "stdout",
     "output_type": "stream",
     "text": [
      "748\n",
      "         DATE  jpn_ppi\n",
      "0  1960-01-01  62.8903\n",
      "1  1960-02-01  62.8903\n",
      "           DATE  jpn_ppi\n",
      "746  2022-03-01     99.9\n",
      "747  2022-04-01    100.7\n"
     ]
    }
   ],
   "source": [
    "# finished goods PPI from FRED  on a MONTHLY basis // 1960 to 2022 // BASE = 2015\n",
    "jpn_ppi = pd.read_csv(\"JPN-PPI/PISPFG01JPM661N.csv\")\n",
    "jpn_ppi = jpn_ppi.rename(columns={'PISPFG01JPM661N':'jpn_ppi'})\n",
    "print(len(jpn_ppi))\n",
    "print(jpn_ppi.head(2))\n",
    "print(jpn_ppi.tail(2))"
   ]
  },
  {
   "cell_type": "code",
   "execution_count": 10,
   "id": "c1715246-48bc-4378-92d6-219adf0ba0f8",
   "metadata": {},
   "outputs": [],
   "source": [
    "jpn_ppi[\"jpn_ppi_year\"] = pd.to_datetime(jpn_ppi.DATE).dt.year\n",
    "jpn_ppi[\"jpn_ppi_month\"] = pd.to_datetime(jpn_ppi.DATE).dt.month"
   ]
  },
  {
   "cell_type": "code",
   "execution_count": 11,
   "id": "e9ad23fe-9e2a-4c71-8841-1d9b974f3d1b",
   "metadata": {},
   "outputs": [
    {
     "data": {
      "text/html": [
       "<div>\n",
       "<style scoped>\n",
       "    .dataframe tbody tr th:only-of-type {\n",
       "        vertical-align: middle;\n",
       "    }\n",
       "\n",
       "    .dataframe tbody tr th {\n",
       "        vertical-align: top;\n",
       "    }\n",
       "\n",
       "    .dataframe thead th {\n",
       "        text-align: right;\n",
       "    }\n",
       "</style>\n",
       "<table border=\"1\" class=\"dataframe\">\n",
       "  <thead>\n",
       "    <tr style=\"text-align: right;\">\n",
       "      <th></th>\n",
       "      <th>DATE</th>\n",
       "      <th>jpn_ppi</th>\n",
       "      <th>jpn_ppi_year</th>\n",
       "      <th>jpn_ppi_month</th>\n",
       "    </tr>\n",
       "  </thead>\n",
       "  <tbody>\n",
       "    <tr>\n",
       "      <th>600</th>\n",
       "      <td>2010-01-01</td>\n",
       "      <td>100.3</td>\n",
       "      <td>2010</td>\n",
       "      <td>1</td>\n",
       "    </tr>\n",
       "    <tr>\n",
       "      <th>601</th>\n",
       "      <td>2010-02-01</td>\n",
       "      <td>100.0</td>\n",
       "      <td>2010</td>\n",
       "      <td>2</td>\n",
       "    </tr>\n",
       "    <tr>\n",
       "      <th>602</th>\n",
       "      <td>2010-03-01</td>\n",
       "      <td>99.9</td>\n",
       "      <td>2010</td>\n",
       "      <td>3</td>\n",
       "    </tr>\n",
       "    <tr>\n",
       "      <th>603</th>\n",
       "      <td>2010-04-01</td>\n",
       "      <td>99.6</td>\n",
       "      <td>2010</td>\n",
       "      <td>4</td>\n",
       "    </tr>\n",
       "    <tr>\n",
       "      <th>604</th>\n",
       "      <td>2010-05-01</td>\n",
       "      <td>99.2</td>\n",
       "      <td>2010</td>\n",
       "      <td>5</td>\n",
       "    </tr>\n",
       "    <tr>\n",
       "      <th>605</th>\n",
       "      <td>2010-06-01</td>\n",
       "      <td>98.9</td>\n",
       "      <td>2010</td>\n",
       "      <td>6</td>\n",
       "    </tr>\n",
       "    <tr>\n",
       "      <th>606</th>\n",
       "      <td>2010-07-01</td>\n",
       "      <td>98.3</td>\n",
       "      <td>2010</td>\n",
       "      <td>7</td>\n",
       "    </tr>\n",
       "    <tr>\n",
       "      <th>607</th>\n",
       "      <td>2010-08-01</td>\n",
       "      <td>97.9</td>\n",
       "      <td>2010</td>\n",
       "      <td>8</td>\n",
       "    </tr>\n",
       "    <tr>\n",
       "      <th>608</th>\n",
       "      <td>2010-09-01</td>\n",
       "      <td>97.7</td>\n",
       "      <td>2010</td>\n",
       "      <td>9</td>\n",
       "    </tr>\n",
       "    <tr>\n",
       "      <th>609</th>\n",
       "      <td>2010-10-01</td>\n",
       "      <td>98.2</td>\n",
       "      <td>2010</td>\n",
       "      <td>10</td>\n",
       "    </tr>\n",
       "    <tr>\n",
       "      <th>610</th>\n",
       "      <td>2010-11-01</td>\n",
       "      <td>98.2</td>\n",
       "      <td>2010</td>\n",
       "      <td>11</td>\n",
       "    </tr>\n",
       "    <tr>\n",
       "      <th>611</th>\n",
       "      <td>2010-12-01</td>\n",
       "      <td>98.5</td>\n",
       "      <td>2010</td>\n",
       "      <td>12</td>\n",
       "    </tr>\n",
       "  </tbody>\n",
       "</table>\n",
       "</div>"
      ],
      "text/plain": [
       "           DATE  jpn_ppi  jpn_ppi_year  jpn_ppi_month\n",
       "600  2010-01-01    100.3          2010              1\n",
       "601  2010-02-01    100.0          2010              2\n",
       "602  2010-03-01     99.9          2010              3\n",
       "603  2010-04-01     99.6          2010              4\n",
       "604  2010-05-01     99.2          2010              5\n",
       "605  2010-06-01     98.9          2010              6\n",
       "606  2010-07-01     98.3          2010              7\n",
       "607  2010-08-01     97.9          2010              8\n",
       "608  2010-09-01     97.7          2010              9\n",
       "609  2010-10-01     98.2          2010             10\n",
       "610  2010-11-01     98.2          2010             11\n",
       "611  2010-12-01     98.5          2010             12"
      ]
     },
     "execution_count": 11,
     "metadata": {},
     "output_type": "execute_result"
    }
   ],
   "source": [
    "jpn_ppi[jpn_ppi.jpn_ppi_year == 2010]"
   ]
  },
  {
   "cell_type": "code",
   "execution_count": 12,
   "id": "8411ae94-818f-4bdc-abea-223cdb757aa7",
   "metadata": {},
   "outputs": [
    {
     "name": "stdout",
     "output_type": "stream",
     "text": [
      "(63, 2)\n",
      "                jpn_ppi  jpn_ppi_month\n",
      "jpn_ppi_year                          \n",
      "1960          62.774936            6.5\n",
      "1961          63.203433            6.5\n",
      "                jpn_ppi  jpn_ppi_month\n",
      "jpn_ppi_year                          \n",
      "2021          96.833333            6.5\n",
      "2022          99.600000            2.5\n"
     ]
    }
   ],
   "source": [
    "# JPN PPI - YEARLY - 1960 to 2022 - BASE = 2015\n",
    "jpn_ppi_yearly = jpn_ppi.groupby(\"jpn_ppi_year\").mean(\"jpn_ppi\")\n",
    "print(jpn_ppi_yearly.shape)\n",
    "print(jpn_ppi_yearly.head(2))\n",
    "print(jpn_ppi_yearly.tail(2))"
   ]
  },
  {
   "cell_type": "markdown",
   "id": "4fcf1d3e-0c36-426f-be63-0cebe03b6d80",
   "metadata": {},
   "source": [
    "### JPN ULC"
   ]
  },
  {
   "cell_type": "code",
   "execution_count": 13,
   "id": "7536642e-9fb5-4eea-9267-42b339cb93ae",
   "metadata": {},
   "outputs": [
    {
     "name": "stdout",
     "output_type": "stream",
     "text": [
      "175\n",
      "         DATE    jpn_ulc\n",
      "0  1980-01-01  67.467467\n",
      "1  1980-04-01  68.412182\n",
      "           DATE     jpn_ulc\n",
      "173  2023-04-01  107.630371\n",
      "174  2023-07-01  107.373853\n"
     ]
    }
   ],
   "source": [
    "# UNIT LABOR COSTS FROM FRED  1980 to 2023 // BASE = 2015\n",
    "jpn_ulc = pd.read_csv(\"JPN-ULC/ULQECU01JPQ661S.csv\")\n",
    "jpn_ulc = jpn_ulc.rename(columns={'ULQECU01JPQ661S':'jpn_ulc'})\n",
    "print(len(jpn_ulc))\n",
    "print(jpn_ulc.head(2))\n",
    "print(jpn_ulc.tail(2))"
   ]
  },
  {
   "cell_type": "code",
   "execution_count": 14,
   "id": "ec638d2f-4dc8-4bf2-8d4c-1d38a9cc804a",
   "metadata": {},
   "outputs": [],
   "source": [
    "jpn_ulc[\"jpn_ulc_year\"] = pd.to_datetime(jpn_ulc.DATE).dt.year\n",
    "jpn_ulc[\"jpn_ulc_month\"] = pd.to_datetime(jpn_ulc.DATE).dt.month"
   ]
  },
  {
   "cell_type": "code",
   "execution_count": 15,
   "id": "16141419-ed5c-4a02-9ad6-8b5e07ebf492",
   "metadata": {},
   "outputs": [
    {
     "data": {
      "text/html": [
       "<div>\n",
       "<style scoped>\n",
       "    .dataframe tbody tr th:only-of-type {\n",
       "        vertical-align: middle;\n",
       "    }\n",
       "\n",
       "    .dataframe tbody tr th {\n",
       "        vertical-align: top;\n",
       "    }\n",
       "\n",
       "    .dataframe thead th {\n",
       "        text-align: right;\n",
       "    }\n",
       "</style>\n",
       "<table border=\"1\" class=\"dataframe\">\n",
       "  <thead>\n",
       "    <tr style=\"text-align: right;\">\n",
       "      <th></th>\n",
       "      <th>DATE</th>\n",
       "      <th>jpn_ulc</th>\n",
       "      <th>jpn_ulc_year</th>\n",
       "      <th>jpn_ulc_month</th>\n",
       "    </tr>\n",
       "  </thead>\n",
       "  <tbody>\n",
       "    <tr>\n",
       "      <th>140</th>\n",
       "      <td>2015-01-01</td>\n",
       "      <td>99.753560</td>\n",
       "      <td>2015</td>\n",
       "      <td>1</td>\n",
       "    </tr>\n",
       "    <tr>\n",
       "      <th>141</th>\n",
       "      <td>2015-04-01</td>\n",
       "      <td>99.757552</td>\n",
       "      <td>2015</td>\n",
       "      <td>4</td>\n",
       "    </tr>\n",
       "    <tr>\n",
       "      <th>142</th>\n",
       "      <td>2015-07-01</td>\n",
       "      <td>100.141589</td>\n",
       "      <td>2015</td>\n",
       "      <td>7</td>\n",
       "    </tr>\n",
       "    <tr>\n",
       "      <th>143</th>\n",
       "      <td>2015-10-01</td>\n",
       "      <td>100.347299</td>\n",
       "      <td>2015</td>\n",
       "      <td>10</td>\n",
       "    </tr>\n",
       "  </tbody>\n",
       "</table>\n",
       "</div>"
      ],
      "text/plain": [
       "           DATE     jpn_ulc  jpn_ulc_year  jpn_ulc_month\n",
       "140  2015-01-01   99.753560          2015              1\n",
       "141  2015-04-01   99.757552          2015              4\n",
       "142  2015-07-01  100.141589          2015              7\n",
       "143  2015-10-01  100.347299          2015             10"
      ]
     },
     "execution_count": 15,
     "metadata": {},
     "output_type": "execute_result"
    }
   ],
   "source": [
    "jpn_ulc[jpn_ulc.jpn_ulc_year == 2015]"
   ]
  },
  {
   "cell_type": "code",
   "execution_count": 16,
   "id": "c6d5731b-95c5-4487-b4e0-c477b98fc180",
   "metadata": {},
   "outputs": [
    {
     "name": "stdout",
     "output_type": "stream",
     "text": [
      "(44, 2)\n"
     ]
    },
    {
     "data": {
      "text/html": [
       "<div>\n",
       "<style scoped>\n",
       "    .dataframe tbody tr th:only-of-type {\n",
       "        vertical-align: middle;\n",
       "    }\n",
       "\n",
       "    .dataframe tbody tr th {\n",
       "        vertical-align: top;\n",
       "    }\n",
       "\n",
       "    .dataframe thead th {\n",
       "        text-align: right;\n",
       "    }\n",
       "</style>\n",
       "<table border=\"1\" class=\"dataframe\">\n",
       "  <thead>\n",
       "    <tr style=\"text-align: right;\">\n",
       "      <th></th>\n",
       "      <th>jpn_ulc</th>\n",
       "      <th>jpn_ulc_month</th>\n",
       "    </tr>\n",
       "    <tr>\n",
       "      <th>jpn_ulc_year</th>\n",
       "      <th></th>\n",
       "      <th></th>\n",
       "    </tr>\n",
       "  </thead>\n",
       "  <tbody>\n",
       "    <tr>\n",
       "      <th>1980</th>\n",
       "      <td>69.224826</td>\n",
       "      <td>5.5</td>\n",
       "    </tr>\n",
       "    <tr>\n",
       "      <th>1981</th>\n",
       "      <td>73.788575</td>\n",
       "      <td>5.5</td>\n",
       "    </tr>\n",
       "  </tbody>\n",
       "</table>\n",
       "</div>"
      ],
      "text/plain": [
       "                jpn_ulc  jpn_ulc_month\n",
       "jpn_ulc_year                          \n",
       "1980          69.224826            5.5\n",
       "1981          73.788575            5.5"
      ]
     },
     "execution_count": 16,
     "metadata": {},
     "output_type": "execute_result"
    }
   ],
   "source": [
    "jpn_ulc_year = jpn_ulc.groupby(\"jpn_ulc_year\").mean(\"jpn_ulc\")\n",
    "print(jpn_ulc_year.shape)\n",
    "jpn_ulc_year.head(2)"
   ]
  },
  {
   "cell_type": "code",
   "execution_count": 17,
   "id": "0a022415-e40e-4bee-8b73-c38a415cd402",
   "metadata": {},
   "outputs": [
    {
     "data": {
      "text/plain": [
       "Index([1980, 1981, 1982, 1983, 1984, 1985, 1986, 1987, 1988, 1989, 1990, 1991,\n",
       "       1992, 1993, 1994, 1995, 1996, 1997, 1998, 1999, 2000, 2001, 2002, 2003,\n",
       "       2004, 2005, 2006, 2007, 2008, 2009, 2010, 2011, 2012, 2013, 2014, 2015,\n",
       "       2016, 2017, 2018, 2019, 2020, 2021, 2022, 2023],\n",
       "      dtype='int32', name='jpn_ulc_year')"
      ]
     },
     "execution_count": 17,
     "metadata": {},
     "output_type": "execute_result"
    }
   ],
   "source": [
    "jpn_ulc_year.index"
   ]
  },
  {
   "cell_type": "markdown",
   "id": "89aae2e1-ba76-44c2-a158-6b52dec5e41a",
   "metadata": {},
   "source": [
    "### United States"
   ]
  },
  {
   "cell_type": "markdown",
   "id": "b817065d-e3ab-4b6b-a2f7-254ea4448e14",
   "metadata": {},
   "source": [
    "### US CPI\n",
    "US CPI Time series selection from the file \"cu.series\". Basically it lists all the series  codes which time series does  mean what.\n",
    "\n",
    "the following series is the most appropirate since it is us city average:\n",
    "\n",
    "CUSR0000SA0      \t0000\tSA0\tS\tR\tS\t1982-84=100\tAll items in U.S. city average, all urban consumers, seasonally adjusted\t\t1947\tM01\t2024\tM05"
   ]
  },
  {
   "cell_type": "code",
   "execution_count": 18,
   "id": "21877b1a-e091-4251-8318-a9c03d36f58e",
   "metadata": {},
   "outputs": [
    {
     "name": "stdout",
     "output_type": "stream",
     "text": [
      "61705\n"
     ]
    },
    {
     "data": {
      "text/html": [
       "<div>\n",
       "<style scoped>\n",
       "    .dataframe tbody tr th:only-of-type {\n",
       "        vertical-align: middle;\n",
       "    }\n",
       "\n",
       "    .dataframe tbody tr th {\n",
       "        vertical-align: top;\n",
       "    }\n",
       "\n",
       "    .dataframe thead th {\n",
       "        text-align: right;\n",
       "    }\n",
       "</style>\n",
       "<table border=\"1\" class=\"dataframe\">\n",
       "  <thead>\n",
       "    <tr style=\"text-align: right;\">\n",
       "      <th></th>\n",
       "      <th>series_id</th>\n",
       "      <th>year</th>\n",
       "      <th>period</th>\n",
       "      <th>value</th>\n",
       "      <th>footnote_codes</th>\n",
       "    </tr>\n",
       "  </thead>\n",
       "  <tbody>\n",
       "    <tr>\n",
       "      <th>0</th>\n",
       "      <td>CUSR0000SA0</td>\n",
       "      <td>1947</td>\n",
       "      <td>M01</td>\n",
       "      <td>21.48</td>\n",
       "      <td>NaN</td>\n",
       "    </tr>\n",
       "    <tr>\n",
       "      <th>1</th>\n",
       "      <td>CUSR0000SA0</td>\n",
       "      <td>1947</td>\n",
       "      <td>M02</td>\n",
       "      <td>21.62</td>\n",
       "      <td>NaN</td>\n",
       "    </tr>\n",
       "  </tbody>\n",
       "</table>\n",
       "</div>"
      ],
      "text/plain": [
       "     series_id  year period  value  footnote_codes\n",
       "0  CUSR0000SA0  1947    M01  21.48             NaN\n",
       "1  CUSR0000SA0  1947    M02  21.62             NaN"
      ]
     },
     "execution_count": 18,
     "metadata": {},
     "output_type": "execute_result"
    }
   ],
   "source": [
    "us_cpi = pd.read_table(\"US-CPI/cu.data.1.AllItems\",sep=\"\\s+\",engine='python')\n",
    "print(len(us_cpi))\n",
    "us_cpi.head(2)"
   ]
  },
  {
   "cell_type": "code",
   "execution_count": 19,
   "id": "73d91136-7c74-4196-bc1a-7700e036e135",
   "metadata": {},
   "outputs": [
    {
     "name": "stdout",
     "output_type": "stream",
     "text": [
      "Index(['series_id', 'year', 'period', 'value', 'footnote_codes'], dtype='object')\n"
     ]
    }
   ],
   "source": [
    "# avoided the wthiespace problem with an \"\\s+\" import, meaning that all white spaces are explicitly used, not the first row only\n",
    "print(us_cpi.columns)\n",
    "#us_cpi_colnames = [colname.strip() for colname in list(us_cpi.columns.values)]\n",
    "#us_cpi_colnames"
   ]
  },
  {
   "cell_type": "code",
   "execution_count": 20,
   "id": "4b9cd6d8-5aa6-4c93-baca-aeedc2733deb",
   "metadata": {},
   "outputs": [
    {
     "name": "stdout",
     "output_type": "stream",
     "text": [
      "929\n"
     ]
    }
   ],
   "source": [
    "us_cpi_ss = us_cpi[us_cpi['series_id'] == 'CUSR0000SA0']\n",
    "#us_cpi_ss[\"\n",
    "print(len(us_cpi_ss))"
   ]
  },
  {
   "cell_type": "code",
   "execution_count": 21,
   "id": "0629ae12-5dfb-4e41-b7bf-fb99a3043b00",
   "metadata": {},
   "outputs": [
    {
     "name": "stdout",
     "output_type": "stream",
     "text": [
      "78\n",
      "          value  footnote_codes\n",
      "year                           \n",
      "1947  22.331667             NaN\n",
      "1948  24.045000             NaN\n",
      "          value  footnote_codes\n",
      "year                           \n",
      "2023  304.70075             NaN\n",
      "2024  311.88020             NaN\n"
     ]
    }
   ],
   "source": [
    "us_cpi_ss_year = us_cpi_ss.groupby(\"year\").mean(\"value\")\n",
    "print(len(us_cpi_ss_year))\n",
    "print(us_cpi_ss_year.head(2))\n",
    "print(us_cpi_ss_year.tail(2))"
   ]
  },
  {
   "cell_type": "code",
   "execution_count": null,
   "id": "3b3a8564-cee9-46f1-94c0-2260e1d0c9f6",
   "metadata": {},
   "outputs": [],
   "source": []
  },
  {
   "cell_type": "markdown",
   "id": "98b0a723-618e-4abd-904b-4f0a765b163a",
   "metadata": {},
   "source": [
    "### US Producer Price Index \n",
    "the producer price index for the us does not have a total aggregate, however, the two series that fit the closest are the following: \n",
    "\n",
    "PCUOMFG--OMFG--               \tOMFG--\tOMFG--\tU\t198412\tPPI industry group data for Total manufacturing industries, not seasonally adjusted\t\t1984\tM12\t2024\tM05\n",
    "\n",
    "PCUOMIN--OMIN--               \tOMIN--\tOMIN--\tU\t198412\tPPI industry group data for Total mining industries, not seasonally adjusted\t\t1984\tM12\t2024\tM05"
   ]
  },
  {
   "cell_type": "code",
   "execution_count": 22,
   "id": "20f869eb-3799-4dec-9bfa-979df511fd8d",
   "metadata": {},
   "outputs": [
    {
     "name": "stdout",
     "output_type": "stream",
     "text": [
      "Index(['series_id', 'year', 'period', 'value', 'footnote_codes'], dtype='object')\n",
      "PCUOMIN--OMIN-- <class 'str'>\n"
     ]
    },
    {
     "data": {
      "text/html": [
       "<div>\n",
       "<style scoped>\n",
       "    .dataframe tbody tr th:only-of-type {\n",
       "        vertical-align: middle;\n",
       "    }\n",
       "\n",
       "    .dataframe tbody tr th {\n",
       "        vertical-align: top;\n",
       "    }\n",
       "\n",
       "    .dataframe thead th {\n",
       "        text-align: right;\n",
       "    }\n",
       "</style>\n",
       "<table border=\"1\" class=\"dataframe\">\n",
       "  <thead>\n",
       "    <tr style=\"text-align: right;\">\n",
       "      <th></th>\n",
       "      <th>series_id</th>\n",
       "      <th>year</th>\n",
       "      <th>period</th>\n",
       "      <th>value</th>\n",
       "      <th>footnote_codes</th>\n",
       "    </tr>\n",
       "  </thead>\n",
       "  <tbody>\n",
       "    <tr>\n",
       "      <th>3495</th>\n",
       "      <td>PCUOMIN--OMIN--</td>\n",
       "      <td>2024</td>\n",
       "      <td>M04</td>\n",
       "      <td>224.344</td>\n",
       "      <td>P</td>\n",
       "    </tr>\n",
       "    <tr>\n",
       "      <th>3496</th>\n",
       "      <td>PCUOMIN--OMIN--</td>\n",
       "      <td>2024</td>\n",
       "      <td>M05</td>\n",
       "      <td>216.059</td>\n",
       "      <td>P</td>\n",
       "    </tr>\n",
       "  </tbody>\n",
       "</table>\n",
       "</div>"
      ],
      "text/plain": [
       "            series_id  year period    value footnote_codes\n",
       "3495  PCUOMIN--OMIN--  2024    M04  224.344              P\n",
       "3496  PCUOMIN--OMIN--  2024    M05  216.059              P"
      ]
     },
     "execution_count": 22,
     "metadata": {},
     "output_type": "execute_result"
    }
   ],
   "source": [
    "us_ppi = pd.read_table(\"US-PPI/pc.data.01.aggregates\",sep=\"\\s+\",engine='python')\n",
    "print(us_ppi.columns)\n",
    "print(us_ppi.iloc[3495,0],type(us_ppi.iloc[3495,0]))\n",
    "us_ppi.tail(2)"
   ]
  },
  {
   "cell_type": "code",
   "execution_count": 23,
   "id": "6fd4033b-73ba-4c99-ba5e-ad45b1fe1be9",
   "metadata": {},
   "outputs": [
    {
     "name": "stdout",
     "output_type": "stream",
     "text": [
      "38\n",
      "            series_id  year period  value footnote_codes\n",
      "2510  PCUOMFG--OMFG--  1986    M13   98.4           None\n",
      "2523  PCUOMFG--OMFG--  1987    M13  100.9           None\n",
      "            series_id  year period    value footnote_codes\n",
      "2978  PCUOMFG--OMFG--  2022    M13  249.540           None\n",
      "2991  PCUOMFG--OMFG--  2023    M13  247.985           None\n"
     ]
    }
   ],
   "source": [
    "us_ppi_ss = us_ppi[(us_ppi[\"period\"]==\"M13\") & (us_ppi[\"series_id\"]==\"PCUOMFG--OMFG--\")]\n",
    "print(len(us_ppi_ss))\n",
    "print(us_ppi_ss.head(2))\n",
    "print(us_ppi_ss.tail(2))\n"
   ]
  },
  {
   "cell_type": "code",
   "execution_count": 24,
   "id": "bd3c093a-59c7-46ba-819b-c170087d3df8",
   "metadata": {},
   "outputs": [
    {
     "name": "stderr",
     "output_type": "stream",
     "text": [
      "/tmp/ipykernel_5553/3297620362.py:1: SettingWithCopyWarning: \n",
      "A value is trying to be set on a copy of a slice from a DataFrame.\n",
      "Try using .loc[row_indexer,col_indexer] = value instead\n",
      "\n",
      "See the caveats in the documentation: https://pandas.pydata.org/pandas-docs/stable/user_guide/indexing.html#returning-a-view-versus-a-copy\n",
      "  us_ppi_ss[\"mining\"] = list(us_ppi[(us_ppi[\"period\"]==\"M13\") & (us_ppi[\"series_id\"]==\"PCUOMIN--OMIN--\")][\"value\"].values)\n"
     ]
    }
   ],
   "source": [
    "us_ppi_ss[\"mining\"] = list(us_ppi[(us_ppi[\"period\"]==\"M13\") & (us_ppi[\"series_id\"]==\"PCUOMIN--OMIN--\")][\"value\"].values)"
   ]
  },
  {
   "cell_type": "code",
   "execution_count": 25,
   "id": "4ef2daa4-5872-42bd-9614-0e3a0fb18cd6",
   "metadata": {},
   "outputs": [
    {
     "data": {
      "text/plain": [
       "<Axes: >"
      ]
     },
     "execution_count": 25,
     "metadata": {},
     "output_type": "execute_result"
    },
    {
     "data": {
      "image/png": "[encoded data removed]",
      "text/plain": [
       "<Figure size 640x480 with 1 Axes>"
      ]
     },
     "metadata": {},
     "output_type": "display_data"
    }
   ],
   "source": [
    "us_ppi_ss[[\"value\",\"mining\"]].plot()"
   ]
  },
  {
   "cell_type": "markdown",
   "id": "224be328-88f1-4166-98e1-f1772de35344",
   "metadata": {},
   "source": [
    "### Unit Labor Costs\n",
    "\n",
    "for unit labor costs the following note is an example: \n",
    "\n",
    "PRS 3100 6 11 1 = PRs -3100 - 06 - 11 - 1\n",
    "\n",
    "Series - Sector -Class Code - Mesaure Code - Time \n",
    "\n",
    "Selection for \"Sector\": \n",
    " - 3000\tManufacturing\t0\tT\t4\n",
    " - 3100\tManufacturing, Durable Goods\t1\tT\t5\n",
    " - 3200\tManufacturing, Nondurable Goods\t1\tT\t6\n",
    " - 8400\tBusiness\t0\tT\t2\n",
    " - 8500\tNonfarm Business\t0\tT\t1\n",
    " - 8800\tNonfinancial Corporations\t0\tT\t3\n",
    "\n",
    "Selection for \"Time\"\n",
    " - 1\t% Change same quarter 1 year ago\t0\tT\t1\n",
    " - 2\t% Change from previous quarter\t0\tT\t2\n",
    " - 3\tIndex (2017=100)\t0\tT\t3\n",
    "\n",
    "\n",
    "Therefore: \n",
    " - Sector: 8800\n",
    " - ClassCode: 3\n",
    " - Measure Code: 11\n",
    " - Time: 3 (index)\n",
    "\n",
    "Therefore: PRS+8800 3 11 3\n",
    "\n",
    "Sidenote:Q05\tAN AV\tAnnual Average"
   ]
  },
  {
   "cell_type": "code",
   "execution_count": 26,
   "id": "d1878f6a-78e3-47aa-a8a1-602ab7c3c7bb",
   "metadata": {},
   "outputs": [
    {
     "data": {
      "text/html": [
       "<div>\n",
       "<style scoped>\n",
       "    .dataframe tbody tr th:only-of-type {\n",
       "        vertical-align: middle;\n",
       "    }\n",
       "\n",
       "    .dataframe tbody tr th {\n",
       "        vertical-align: top;\n",
       "    }\n",
       "\n",
       "    .dataframe thead th {\n",
       "        text-align: right;\n",
       "    }\n",
       "</style>\n",
       "<table border=\"1\" class=\"dataframe\">\n",
       "  <thead>\n",
       "    <tr style=\"text-align: right;\">\n",
       "      <th></th>\n",
       "      <th>series_id</th>\n",
       "      <th>year</th>\n",
       "      <th>period</th>\n",
       "      <th>value</th>\n",
       "      <th>footnote_codes</th>\n",
       "    </tr>\n",
       "  </thead>\n",
       "  <tbody>\n",
       "    <tr>\n",
       "      <th>0</th>\n",
       "      <td>PRS30006011</td>\n",
       "      <td>1988</td>\n",
       "      <td>Q01</td>\n",
       "      <td>1.9</td>\n",
       "      <td>None</td>\n",
       "    </tr>\n",
       "    <tr>\n",
       "      <th>1</th>\n",
       "      <td>PRS30006011</td>\n",
       "      <td>1988</td>\n",
       "      <td>Q02</td>\n",
       "      <td>2.2</td>\n",
       "      <td>None</td>\n",
       "    </tr>\n",
       "  </tbody>\n",
       "</table>\n",
       "</div>"
      ],
      "text/plain": [
       "     series_id  year period  value footnote_codes\n",
       "0  PRS30006011  1988    Q01    1.9           None\n",
       "1  PRS30006011  1988    Q02    2.2           None"
      ]
     },
     "execution_count": 26,
     "metadata": {},
     "output_type": "execute_result"
    }
   ],
   "source": [
    "us_ulc = pd.read_table(\"US-ULC/pr.data.1.AllData\",sep=\"\\s+\",engine='python')\n",
    "us_ulc.head(2)"
   ]
  },
  {
   "cell_type": "code",
   "execution_count": 27,
   "id": "8f5222b0-e491-4c4a-989b-28b867ca33ec",
   "metadata": {},
   "outputs": [
    {
     "name": "stdout",
     "output_type": "stream",
     "text": [
      "77\n",
      "         series_id  year period   value footnote_codes\n",
      "63733  PRS88003113  1947    Q05  19.089           None\n",
      "63738  PRS88003113  1948    Q05  19.672           None\n",
      "         series_id  year period    value footnote_codes\n",
      "64108  PRS88003113  2022    Q05  115.523           None\n",
      "64113  PRS88003113  2023    Q05  119.319              R\n"
     ]
    }
   ],
   "source": [
    "us_ulc_ss = us_ulc[ (us_ulc[\"series_id\"] == \"PRS88003113\" ) & (us_ulc[\"period\"] == \"Q05\") ]\n",
    "print(len(us_ulc_ss))\n",
    "print(us_ulc_ss.head(2))\n",
    "print(us_ulc_ss.tail(2))"
   ]
  }
 ],
 "metadata": {
  "kernelspec": {
   "display_name": "Python 3 (ipykernel)",
   "language": "python",
   "name": "python3"
  },
  "language_info": {
   "codemirror_mode": {
    "name": "ipython",
    "version": 3
   },
   "file_extension": ".py",
   "mimetype": "text/x-python",
   "name": "python",
   "nbconvert_exporter": "python",
   "pygments_lexer": "ipython3",
   "version": "3.10.13"
  }
 },
 "nbformat": 4,
 "nbformat_minor": 5
}
